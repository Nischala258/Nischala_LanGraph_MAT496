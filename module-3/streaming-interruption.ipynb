{
 "cells": [
  {
   "cell_type": "markdown",
   "id": "0c9e547f",
   "metadata": {},
   "source": [
    "[![Open in Colab](https://colab.research.google.com/assets/colab-badge.svg)](https://colab.research.google.com/github/langchain-ai/langchain-academy/blob/main/module-3/streaming-interruption.ipynb) [![Open in LangChain Academy](https://cdn.prod.website-files.com/65b8cd72835ceeacd4449a53/66e9eba12c7b7688aa3dbb5e_LCA-badge-green.svg)](https://academy.langchain.com/courses/take/intro-to-langgraph/lessons/58239464-lesson-1-streaming)"
   ]
  },
  {
   "cell_type": "markdown",
   "id": "319adfec-2d0a-49f2-87f9-275c4a32add2",
   "metadata": {},
   "source": [
    "# Streaming\n",
    "\n",
    "## Review\n",
    "\n",
    "In module 2, covered a few ways to customize graph state and memory.\n",
    " \n",
    "We built up to a Chatbot with external memory that can sustain long-running conversations. \n",
    "\n",
    "## Goals\n",
    "\n",
    "This module will dive into `human-in-the-loop`, which builds on memory and allows users to interact directly with graphs in various ways. \n",
    "\n",
    "To set the stage for `human-in-the-loop`, we'll first dive into streaming, which provides several ways to visualize graph output (e.g., node state or chat model tokens) over the course of execution."
   ]
  },
  {
   "cell_type": "code",
   "execution_count": 1,
   "id": "db024d1f-feb3-45a0-a55c-e7712a1feefa",
   "metadata": {},
   "outputs": [],
   "source": [
    "%%capture --no-stderr\n",
    "%pip install --quiet -U langgraph langchain_openai langgraph_sdk"
   ]
  },
  {
   "cell_type": "markdown",
   "id": "70d7e41b-c6ba-4e47-b645-6c110bede549",
   "metadata": {},
   "source": [
    "## Streaming\n",
    "\n",
    "LangGraph is built with [first class support for streaming](https://langchain-ai.github.io/langgraph/concepts/low_level/#streaming).\n",
    "\n",
    "Let's set up our Chatbot from Module 2, and show various way to stream outputs from the graph during execution. "
   ]
  },
  {
   "cell_type": "code",
   "execution_count": 1,
   "id": "5b430d92-f595-4322-a56e-06de7485daa8",
   "metadata": {},
   "outputs": [],
   "source": [
    "import os, getpass\n",
    "\n",
    "def _set_env(var: str):\n",
    "    if not os.environ.get(var):\n",
    "        os.environ[var] = getpass.getpass(f\"{var}: \")\n",
    "\n",
    "# Prompt for Google API key if not already set\n",
    "_set_env(\"GOOGLE_API_KEY\")\n"
   ]
  },
  {
   "cell_type": "markdown",
   "id": "4d0682fc",
   "metadata": {},
   "source": [
    "Note that we use `RunnableConfig` with `call_model` to enable token-wise streaming. This is [only needed with python < 3.11](https://langchain-ai.github.io/langgraph/how-tos/streaming-tokens/). We include in case you are running this notebook in CoLab, which will use python 3.x. "
   ]
  },
  {
   "cell_type": "code",
   "execution_count": 2,
   "id": "2d7321e0-0d99-4efe-a67b-74c12271859b",
   "metadata": {},
   "outputs": [
    {
     "data": {
      "image/png": "[encoded data removed]",
      "text/plain": [
       "<IPython.core.display.Image object>"
      ]
     },
     "metadata": {},
     "output_type": "display_data"
    }
   ],
   "source": [
    "from IPython.display import Image, display\n",
    "from typing import Literal\n",
    "\n",
    "from langchain_google_genai import ChatGoogleGenerativeAI\n",
    "from langchain_core.messages import SystemMessage, HumanMessage, RemoveMessage\n",
    "from langchain_core.runnables import RunnableConfig\n",
    "\n",
    "from langgraph.checkpoint.memory import MemorySaver\n",
    "from langgraph.graph import StateGraph, START, END\n",
    "from langgraph.graph import MessagesState\n",
    "\n",
    "# Use Gemini 2.0 Flash model instead of ChatGPT\n",
    "model = ChatGoogleGenerativeAI(model=\"gemini-2.0-flash\", temperature=0)\n",
    "\n",
    "# State \n",
    "class State(MessagesState):\n",
    "    summary: str\n",
    "\n",
    "# Define the logic to call the model\n",
    "def call_model(state: State, config: RunnableConfig):\n",
    "    summary = state.get(\"summary\", \"\")\n",
    "\n",
    "    if summary:\n",
    "        system_message = f\"Summary of conversation earlier: {summary}\"\n",
    "        messages = [SystemMessage(content=system_message)] + state[\"messages\"]\n",
    "    else:\n",
    "        messages = state[\"messages\"]\n",
    "\n",
    "    response = model.invoke(messages, config)\n",
    "    return {\"messages\": response}\n",
    "\n",
    "def summarize_conversation(state: State):\n",
    "    summary = state.get(\"summary\", \"\")\n",
    "\n",
    "    if summary:\n",
    "        summary_message = (\n",
    "            f\"This is summary of the conversation to date: {summary}\\n\\n\"\n",
    "            \"Extend the summary by taking into account the new messages above:\"\n",
    "        )\n",
    "    else:\n",
    "        summary_message = \"Create a summary of the conversation above:\"\n",
    "\n",
    "    messages = state[\"messages\"] + [HumanMessage(content=summary_message)]\n",
    "    response = model.invoke(messages)\n",
    "\n",
    "    delete_messages = [RemoveMessage(id=m.id) for m in state[\"messages\"][:-2]]\n",
    "    return {\"summary\": response.content, \"messages\": delete_messages}\n",
    "\n",
    "def should_continue(state: State) -> Literal[\"summarize_conversation\", END]:\n",
    "    messages = state[\"messages\"]\n",
    "\n",
    "    if len(messages) > 6:\n",
    "        return \"summarize_conversation\"\n",
    "    return END\n",
    "\n",
    "# Define a new graph\n",
    "workflow = StateGraph(State)\n",
    "workflow.add_node(\"conversation\", call_model)\n",
    "workflow.add_node(summarize_conversation)\n",
    "\n",
    "# Set the entrypoint as conversation\n",
    "workflow.add_edge(START, \"conversation\")\n",
    "workflow.add_conditional_edges(\"conversation\", should_continue)\n",
    "workflow.add_edge(\"summarize_conversation\", END)\n",
    "\n",
    "# Compile with memory and display\n",
    "memory = MemorySaver()\n",
    "graph = workflow.compile(checkpointer=memory)\n",
    "\n",
    "display(Image(graph.get_graph().draw_mermaid_png()))\n"
   ]
  },
  {
   "attachments": {},
   "cell_type": "markdown",
   "id": "f847a787-b301-488c-9b58-cba9f389f55d",
   "metadata": {},
   "source": [
    "### Streaming full state\n",
    "\n",
    "Now, let's talk about ways to [stream our graph state](https://langchain-ai.github.io/langgraph/concepts/low_level/#streaming).\n",
    "\n",
    "`.stream` and `.astream` are sync and async methods for streaming back results. \n",
    " \n",
    "LangGraph supports a few [different streaming modes](https://langchain-ai.github.io/langgraph/how-tos/stream-values/) for [graph state](https://langchain-ai.github.io/langgraph/how-tos/stream-values/):\n",
    " \n",
    "* `values`: This streams the full state of the graph after each node is called.\n",
    "* `updates`: This streams updates to the state of the graph after each node is called.\n",
    "\n",
    "![values_vs_updates.png](https://cdn.prod.website-files.com/65b8cd72835ceeacd4449a53/66dbaf892d24625a201744e5_streaming1.png)\n",
    "\n",
    "Let's look at `stream_mode=\"updates\"`.\n",
    "\n",
    "Because we stream with `updates`, we only see updates to the state after node in the graph is run.\n",
    "\n",
    "Each `chunk` is a dict with `node_name` as the key and the updated state as the value."
   ]
  },
  {
   "cell_type": "code",
   "execution_count": 3,
   "id": "9a6f8ae9-f244-40c5-a2da-618b72631b22",
   "metadata": {},
   "outputs": [
    {
     "name": "stdout",
     "output_type": "stream",
     "text": [
      "{'conversation': {'messages': AIMessage(content=\"Hi Nischala! It's nice to meet you. How can I help you today?\", additional_kwargs={}, response_metadata={'prompt_feedback': {'block_reason': 0, 'safety_ratings': []}, 'finish_reason': 'STOP', 'model_name': 'gemini-2.0-flash', 'safety_ratings': [], 'grounding_metadata': {}, 'model_provider': 'google_genai'}, id='lc_run--9eb776a1-8ba0-4eb5-90cd-b0be44ec8857-0', usage_metadata={'input_tokens': 8, 'output_tokens': 21, 'total_tokens': 29, 'input_token_details': {'cache_read': 0}})}}\n"
     ]
    }
   ],
   "source": [
    "# Create a thread\n",
    "config = {\"configurable\": {\"thread_id\": \"a\"}}\n",
    "\n",
    "# Start conversation\n",
    "for chunk in graph.stream({\"messages\": [HumanMessage(content=\"hi! I'm Nischala\")]}, config, stream_mode=\"updates\"):\n",
    "    print(chunk)"
   ]
  },
  {
   "cell_type": "markdown",
   "id": "0c4882e9-07dd-4d70-866b-dfc530418cad",
   "metadata": {},
   "source": [
    "Let's now just print the state update."
   ]
  },
  {
   "cell_type": "code",
   "execution_count": 4,
   "id": "c859c777-cb12-4682-9108-6b367e597b81",
   "metadata": {},
   "outputs": [
    {
     "name": "stdout",
     "output_type": "stream",
     "text": [
      "==================================\u001b[1m Ai Message \u001b[0m==================================\n",
      "\n",
      "Hi Nischala! It's nice to meet you. How can I help you today?\n"
     ]
    }
   ],
   "source": [
    "# Start conversation\n",
    "for chunk in graph.stream({\"messages\": [HumanMessage(content=\"hi! I'm Nischala\")]}, config, stream_mode=\"updates\"):\n",
    "    chunk['conversation'][\"messages\"].pretty_print()"
   ]
  },
  {
   "cell_type": "markdown",
   "id": "583bf219-6358-4d06-ae99-c40f43569fda",
   "metadata": {},
   "source": [
    "Now, we can see `stream_mode=\"values\"`.\n",
    "\n",
    "This is the `full state` of the graph after the `conversation` node is called."
   ]
  },
  {
   "cell_type": "code",
   "execution_count": 5,
   "id": "6ee763f8-6d1f-491e-8050-fb1439e116df",
   "metadata": {},
   "outputs": [
    {
     "name": "stdout",
     "output_type": "stream",
     "text": [
      "================================\u001b[1m Human Message \u001b[0m=================================\n",
      "\n",
      "hi! I'm Nischala\n",
      "---------------------------------------------------------------------------\n",
      "================================\u001b[1m Human Message \u001b[0m=================================\n",
      "\n",
      "hi! I'm Nischala\n",
      "==================================\u001b[1m Ai Message \u001b[0m==================================\n",
      "\n",
      "Hi Nischala! It's nice to meet you. How can I help you today?\n",
      "---------------------------------------------------------------------------\n"
     ]
    }
   ],
   "source": [
    "# Start conversation, again\n",
    "config = {\"configurable\": {\"thread_id\": \"b\"}}\n",
    "\n",
    "# Start conversation\n",
    "input_message = HumanMessage(content=\"hi! I'm Nischala\")\n",
    "for event in graph.stream({\"messages\": [input_message]}, config, stream_mode=\"values\"):\n",
    "    for m in event['messages']:\n",
    "        m.pretty_print()\n",
    "    print(\"---\"*25)"
   ]
  },
  {
   "cell_type": "markdown",
   "id": "563c198a-d1a4-4700-b7a7-ff5b8e0b25d7",
   "metadata": {},
   "source": [
    "### Streaming tokens\n",
    "\n",
    "We often want to stream more than graph state.\n",
    "\n",
    "In particular, with chat model calls it is common to stream the tokens as they are generated.\n",
    "\n",
    "We can do this [using the `.astream_events` method](https://langchain-ai.github.io/langgraph/how-tos/streaming-from-final-node/#stream-outputs-from-the-final-node), which streams back events as they happen inside nodes!\n",
    "\n",
    "Each event is a dict with a few keys:\n",
    " \n",
    "* `event`: This is the type of event that is being emitted. \n",
    "* `name`: This is the name of event.\n",
    "* `data`: This is the data associated with the event.\n",
    "* `metadata`: Contains`langgraph_node`, the node emitting the event.\n",
    "\n",
    "Let's have a look."
   ]
  },
  {
   "cell_type": "code",
   "execution_count": 6,
   "id": "6ae8c7a6-c6e7-4cef-ac9f-190d2f4dd763",
   "metadata": {},
   "outputs": [
    {
     "name": "stdout",
     "output_type": "stream",
     "text": [
      "Node: . Type: on_chain_start. Name: LangGraph\n",
      "Node: conversation. Type: on_chain_start. Name: conversation\n",
      "Node: conversation. Type: on_chat_model_start. Name: ChatGoogleGenerativeAI\n",
      "Node: conversation. Type: on_chat_model_stream. Name: ChatGoogleGenerativeAI\n",
      "Node: conversation. Type: on_chat_model_stream. Name: ChatGoogleGenerativeAI\n",
      "Node: conversation. Type: on_chat_model_stream. Name: ChatGoogleGenerativeAI\n",
      "Node: conversation. Type: on_chat_model_stream. Name: ChatGoogleGenerativeAI\n",
      "Node: conversation. Type: on_chat_model_stream. Name: ChatGoogleGenerativeAI\n",
      "Node: conversation. Type: on_chat_model_stream. Name: ChatGoogleGenerativeAI\n",
      "Node: conversation. Type: on_chat_model_stream. Name: ChatGoogleGenerativeAI\n",
      "Node: conversation. Type: on_chat_model_stream. Name: ChatGoogleGenerativeAI\n",
      "Node: conversation. Type: on_chat_model_stream. Name: ChatGoogleGenerativeAI\n",
      "Node: conversation. Type: on_chat_model_stream. Name: ChatGoogleGenerativeAI\n",
      "Node: conversation. Type: on_chat_model_stream. Name: ChatGoogleGenerativeAI\n",
      "Node: conversation. Type: on_chat_model_stream. Name: ChatGoogleGenerativeAI\n",
      "Node: conversation. Type: on_chat_model_stream. Name: ChatGoogleGenerativeAI\n",
      "Node: conversation. Type: on_chat_model_stream. Name: ChatGoogleGenerativeAI\n",
      "Node: conversation. Type: on_chat_model_stream. Name: ChatGoogleGenerativeAI\n",
      "Node: conversation. Type: on_chat_model_stream. Name: ChatGoogleGenerativeAI\n",
      "Node: conversation. Type: on_chat_model_stream. Name: ChatGoogleGenerativeAI\n",
      "Node: conversation. Type: on_chat_model_stream. Name: ChatGoogleGenerativeAI\n",
      "Node: conversation. Type: on_chat_model_stream. Name: ChatGoogleGenerativeAI\n",
      "Node: conversation. Type: on_chat_model_stream. Name: ChatGoogleGenerativeAI\n",
      "Node: conversation. Type: on_chat_model_stream. Name: ChatGoogleGenerativeAI\n",
      "Node: conversation. Type: on_chat_model_stream. Name: ChatGoogleGenerativeAI\n",
      "Node: conversation. Type: on_chat_model_end. Name: ChatGoogleGenerativeAI\n",
      "Node: conversation. Type: on_chain_start. Name: should_continue\n",
      "Node: conversation. Type: on_chain_end. Name: should_continue\n",
      "Node: conversation. Type: on_chain_stream. Name: conversation\n",
      "Node: conversation. Type: on_chain_end. Name: conversation\n",
      "Node: . Type: on_chain_stream. Name: LangGraph\n",
      "Node: . Type: on_chain_end. Name: LangGraph\n"
     ]
    }
   ],
   "source": [
    "config = {\"configurable\": {\"thread_id\": \"c\"}}\n",
    "input_message = HumanMessage(content=\"Tell me about Herbivores\")\n",
    "async for event in graph.astream_events({\"messages\": [input_message]}, config, version=\"v2\"):\n",
    "    print(f\"Node: {event['metadata'].get('langgraph_node','')}. Type: {event['event']}. Name: {event['name']}\")"
   ]
  },
  {
   "cell_type": "markdown",
   "id": "0b63490f-3d24-4f68-95ca-5320ccb61d2d",
   "metadata": {},
   "source": [
    "The central point is that tokens from chat models within your graph have the `on_chat_model_stream` type.\n",
    "\n",
    "We can use `event['metadata']['langgraph_node']` to select the node to stream from.\n",
    "\n",
    "And we can use `event['data']` to get the actual data for each event, which in this case is an `AIMessageChunk`. "
   ]
  },
  {
   "cell_type": "code",
   "execution_count": 7,
   "id": "cc3529f8-3960-4d41-9ed6-373f93183950",
   "metadata": {},
   "outputs": [
    {
     "name": "stdout",
     "output_type": "stream",
     "text": [
      "{'chunk': AIMessageChunk(content='Okay', additional_kwargs={}, response_metadata={'safety_ratings': [], 'grounding_metadata': {}, 'model_provider': 'google_genai'}, id='lc_run--fb729867-5d79-4e38-bd07-f4d016cf31c4', usage_metadata={'input_tokens': 6, 'output_tokens': 0, 'total_tokens': 6, 'input_token_details': {'cache_read': 0}})}\n",
      "{'chunk': AIMessageChunk(content=\", let'\", additional_kwargs={}, response_metadata={'safety_ratings': [], 'grounding_metadata': {}, 'model_provider': 'google_genai'}, id='lc_run--fb729867-5d79-4e38-bd07-f4d016cf31c4', usage_metadata={'input_tokens': 0, 'input_token_details': {'cache_read': 0}, 'total_tokens': 0, 'output_tokens': 0})}\n",
      "{'chunk': AIMessageChunk(content='s dive into the world of herbivores!\\n\\n**What are Herbivores?**\\n\\n', additional_kwargs={}, response_metadata={'safety_ratings': [], 'grounding_metadata': {}, 'model_provider': 'google_genai'}, id='lc_run--fb729867-5d79-4e38-bd07-f4d016cf31c4', usage_metadata={'input_tokens': 0, 'input_token_details': {'cache_read': 0}, 'total_tokens': 0, 'output_tokens': 0})}\n",
      "{'chunk': AIMessageChunk(content='Herbivores are animals that primarily eat plants. Their diet consists of leaves, stems, roots', additional_kwargs={}, response_metadata={'safety_ratings': [], 'grounding_metadata': {}, 'model_provider': 'google_genai'}, id='lc_run--fb729867-5d79-4e38-bd07-f4d016cf31c4', usage_metadata={'input_tokens': 0, 'input_token_details': {'cache_read': 0}, 'total_tokens': 0, 'output_tokens': 0})}\n",
      "{'chunk': AIMessageChunk(content=', seeds, fruits, nectar, and even algae. They are a crucial part of the food chain, converting plant matter into energy that can then be consumed by carn', additional_kwargs={}, response_metadata={'safety_ratings': [], 'grounding_metadata': {}, 'model_provider': 'google_genai'}, id='lc_run--fb729867-5d79-4e38-bd07-f4d016cf31c4', usage_metadata={'input_tokens': 0, 'input_token_details': {'cache_read': 0}, 'total_tokens': 0, 'output_tokens': 0})}\n",
      "{'chunk': AIMessageChunk(content='ivores or omnivores.\\n\\n**Key Characteristics and Adaptations:**\\n\\nHerbivores have evolved a variety of physical and behavioral adaptations to efficiently consume and digest plant matter. These', additional_kwargs={}, response_metadata={'safety_ratings': [], 'grounding_metadata': {}, 'model_provider': 'google_genai'}, id='lc_run--fb729867-5d79-4e38-bd07-f4d016cf31c4', usage_metadata={'input_tokens': 0, 'input_token_details': {'cache_read': 0}, 'total_tokens': 0, 'output_tokens': 0})}\n",
      "{'chunk': AIMessageChunk(content=' adaptations vary depending on the specific type of plant material they eat and their overall lifestyle. Here are some common examples:\\n\\n*   **Teeth:**\\n    *   **Flat, broad molars:**  For grinding plant material.\\n', additional_kwargs={}, response_metadata={'safety_ratings': [], 'grounding_metadata': {}, 'model_provider': 'google_genai'}, id='lc_run--fb729867-5d79-4e38-bd07-f4d016cf31c4', usage_metadata={'input_tokens': 0, 'input_token_details': {'cache_read': 0}, 'total_tokens': 0, 'output_tokens': 0})}\n",
      "{'chunk': AIMessageChunk(content='    *   **Incisors:**  For clipping or tearing vegetation.  Some herbivores, like deer, lack upper incisors and instead have a tough dental pad.\\n    *   **Diastema:** A gap between the incisors and mol', additional_kwargs={}, response_metadata={'safety_ratings': [], 'grounding_metadata': {}, 'model_provider': 'google_genai'}, id='lc_run--fb729867-5d79-4e38-bd07-f4d016cf31c4', usage_metadata={'input_tokens': 0, 'input_token_details': {'cache_read': 0}, 'total_tokens': 0, 'output_tokens': 0})}\n",
      "{'chunk': AIMessageChunk(content='ars, allowing the tongue to manipulate plant matter.\\n*   **Digestive System:**\\n    *   **Long digestive tracts:** Plant matter is difficult to digest, so herbivores need a longer digestive system to extract nutrients.\\n    *   **Specialized gut bacteria:**  Many herbivores rely on symbiotic bacteria, proto', additional_kwargs={}, response_metadata={'safety_ratings': [], 'grounding_metadata': {}, 'model_provider': 'google_genai'}, id='lc_run--fb729867-5d79-4e38-bd07-f4d016cf31c4', usage_metadata={'input_tokens': 0, 'input_token_details': {'cache_read': 0}, 'total_tokens': 0, 'output_tokens': 0})}\n",
      "{'chunk': AIMessageChunk(content='zoa, or fungi in their gut to break down cellulose (the main component of plant cell walls).\\n    *   **Ruminants:**  Some herbivores, like cows, sheep, and goats, are ruminants. They have a multi-chambered stomach (typically four chambers) that allows them to ferment plant matter and', additional_kwargs={}, response_metadata={'safety_ratings': [], 'grounding_metadata': {}, 'model_provider': 'google_genai'}, id='lc_run--fb729867-5d79-4e38-bd07-f4d016cf31c4', usage_metadata={'input_tokens': 0, 'input_token_details': {'cache_read': 0}, 'total_tokens': 0, 'output_tokens': 0})}\n",
      "{'chunk': AIMessageChunk(content=' extract more nutrients. They regurgitate partially digested food (cud) and chew it again to further break it down.\\n    *   **Hindgut Fermenters:** Other herbivores, like horses, rabbits, and rodents, are hindgut fermenters. They have a large cecum (a pouch at the beginning of the large intestine', additional_kwargs={}, response_metadata={'safety_ratings': [], 'grounding_metadata': {}, 'model_provider': 'google_genai'}, id='lc_run--fb729867-5d79-4e38-bd07-f4d016cf31c4', usage_metadata={'input_tokens': 0, 'input_token_details': {'cache_read': 0}, 'total_tokens': 0, 'output_tokens': 0})}\n",
      "{'chunk': AIMessageChunk(content=') where fermentation occurs. They may also practice coprophagy (eating their own feces) to extract additional nutrients.\\n*   **Sensory Adaptations:**\\n    *   **Keen sense of smell:** To locate food sources and avoid poisonous plants.\\n    *   **Good eyesight:** To spot predators in', additional_kwargs={}, response_metadata={'safety_ratings': [], 'grounding_metadata': {}, 'model_provider': 'google_genai'}, id='lc_run--fb729867-5d79-4e38-bd07-f4d016cf31c4', usage_metadata={'input_tokens': 0, 'input_token_details': {'cache_read': 0}, 'total_tokens': 0, 'output_tokens': 0})}\n",
      "{'chunk': AIMessageChunk(content=' open environments.\\n*   **Behavioral Adaptations:**\\n    *   **Migration:**  Following seasonal changes in vegetation.\\n    *   **Social behavior:**  Living in herds for protection and to share information about food sources.\\n    *   **Selective feeding:**  Choosing the most nutritious parts of plants.\\n', additional_kwargs={}, response_metadata={'safety_ratings': [], 'grounding_metadata': {}, 'model_provider': 'google_genai'}, id='lc_run--fb729867-5d79-4e38-bd07-f4d016cf31c4', usage_metadata={'input_tokens': 0, 'input_token_details': {'cache_read': 0}, 'total_tokens': 0, 'output_tokens': 0})}\n",
      "{'chunk': AIMessageChunk(content='    *   **Detoxification mechanisms:**  To cope with toxins produced by some plants.\\n\\n**Types of Herbivores:**\\n\\nHerbivores can be classified based on the specific types of plants they eat:\\n\\n*   **Grazers:** Primarily eat grasses (e.g., cows, horses, zebras).\\n', additional_kwargs={}, response_metadata={'safety_ratings': [], 'grounding_metadata': {}, 'model_provider': 'google_genai'}, id='lc_run--fb729867-5d79-4e38-bd07-f4d016cf31c4', usage_metadata={'input_tokens': 0, 'input_token_details': {'cache_read': 0}, 'total_tokens': 0, 'output_tokens': 0})}\n",
      "{'chunk': AIMessageChunk(content='*   **Browsers:** Primarily eat leaves, twigs, and shoots of trees and shrubs (e.g., deer, giraffes, goats).\\n*   **Frugivores:** Primarily eat fruits (e.g., bats, monkeys, some birds).\\n*   **Granivores:** Primarily eat seeds (e.', additional_kwargs={}, response_metadata={'safety_ratings': [], 'grounding_metadata': {}, 'model_provider': 'google_genai'}, id='lc_run--fb729867-5d79-4e38-bd07-f4d016cf31c4', usage_metadata={'input_tokens': 0, 'input_token_details': {'cache_read': 0}, 'total_tokens': 0, 'output_tokens': 0})}\n",
      "{'chunk': AIMessageChunk(content='g., birds, rodents).\\n*   **Nectarivores:** Primarily eat nectar (e.g., hummingbirds, butterflies, bats).\\n*   **Folivores:** Primarily eat leaves (e.g., sloths, koalas, caterpillars).\\n*   **Xylophages:** Primarily eat wood (e.', additional_kwargs={}, response_metadata={'safety_ratings': [], 'grounding_metadata': {}, 'model_provider': 'google_genai'}, id='lc_run--fb729867-5d79-4e38-bd07-f4d016cf31c4', usage_metadata={'input_tokens': 0, 'input_token_details': {'cache_read': 0}, 'total_tokens': 0, 'output_tokens': 0})}\n",
      "{'chunk': AIMessageChunk(content='g., termites, some beetles).\\n*   **Aquatic Herbivores:** Eat aquatic plants and algae (e.g., manatees, some fish, snails).\\n\\n**Ecological Importance:**\\n\\nHerbivores play a vital role in ecosystems:\\n\\n*   **Primary Consumers:** They are the link between plants', additional_kwargs={}, response_metadata={'safety_ratings': [], 'grounding_metadata': {}, 'model_provider': 'google_genai'}, id='lc_run--fb729867-5d79-4e38-bd07-f4d016cf31c4', usage_metadata={'input_tokens': 0, 'input_token_details': {'cache_read': 0}, 'total_tokens': 0, 'output_tokens': 0})}\n",
      "{'chunk': AIMessageChunk(content=' (producers) and carnivores (secondary consumers).\\n*   **Seed Dispersal:** Frugivores help disperse seeds, contributing to plant reproduction and distribution.\\n*   **Pollination:** Nectarivores pollinate plants, facilitating plant reproduction.\\n*   **Nutrient Cycling:** Their waste products contribute to nutrient', additional_kwargs={}, response_metadata={'safety_ratings': [], 'grounding_metadata': {}, 'model_provider': 'google_genai'}, id='lc_run--fb729867-5d79-4e38-bd07-f4d016cf31c4', usage_metadata={'input_tokens': 0, 'input_token_details': {'cache_read': 0}, 'total_tokens': 0, 'output_tokens': 0})}\n",
      "{'chunk': AIMessageChunk(content=' cycling in the soil.\\n*   **Vegetation Control:** They can influence the distribution and abundance of plant species.\\n*   **Food Source:** They are a food source for many carnivores and omnivores.\\n\\n**Examples of Herbivores:**\\n\\n*   **Mammals:** Cows, horses, deer, elephants', additional_kwargs={}, response_metadata={'safety_ratings': [], 'grounding_metadata': {}, 'model_provider': 'google_genai'}, id='lc_run--fb729867-5d79-4e38-bd07-f4d016cf31c4', usage_metadata={'input_tokens': 0, 'input_token_details': {'cache_read': 0}, 'total_tokens': 0, 'output_tokens': 0})}\n",
      "{'chunk': AIMessageChunk(content=', rabbits, kangaroos, sloths, giraffes, pandas, manatees.\\n*   **Birds:** Geese, parrots, hummingbirds, finches.\\n*   **Reptiles:** Iguanas, tortoises.\\n*   **Insects:** Caterpillars, grasshoppers, aphids, leaf beetles', additional_kwargs={}, response_metadata={'safety_ratings': [], 'grounding_metadata': {}, 'model_provider': 'google_genai'}, id='lc_run--fb729867-5d79-4e38-bd07-f4d016cf31c4', usage_metadata={'input_tokens': 0, 'input_token_details': {'cache_read': 0}, 'total_tokens': 0, 'output_tokens': 0})}\n",
      "{'chunk': AIMessageChunk(content='.\\n*   **Fish:** Parrotfish, surgeonfish.\\n*   **Mollusks:** Snails, slugs.\\n\\n**Challenges for Herbivores:**\\n\\n*   **Low Nutritional Value:** Plant matter is often low in nutrients compared to meat.\\n*   **Cellulose Digestion:** Cellulose is', additional_kwargs={}, response_metadata={'safety_ratings': [], 'grounding_metadata': {}, 'model_provider': 'google_genai'}, id='lc_run--fb729867-5d79-4e38-bd07-f4d016cf31c4', usage_metadata={'input_tokens': 0, 'input_token_details': {'cache_read': 0}, 'total_tokens': 0, 'output_tokens': 0})}\n",
      "{'chunk': AIMessageChunk(content=' difficult to break down.\\n*   **Plant Defenses:** Plants have evolved defenses against herbivores, such as thorns, toxins, and tough leaves.\\n*   **Competition:** Herbivores often compete with each other for food resources.\\n*   **Predation:** Herbivores are often preyed upon by carnivores', additional_kwargs={}, response_metadata={'safety_ratings': [], 'grounding_metadata': {}, 'model_provider': 'google_genai'}, id='lc_run--fb729867-5d79-4e38-bd07-f4d016cf31c4', usage_metadata={'input_tokens': 0, 'input_token_details': {'cache_read': 0}, 'total_tokens': 0, 'output_tokens': 0})}\n",
      "{'chunk': AIMessageChunk(content='.\\n\\n**In Summary:**\\n\\nHerbivores are a diverse and essential group of animals that have evolved remarkable adaptations to thrive on a plant-based diet. They play a critical role in ecosystems, influencing plant communities, nutrient cycling, and food web dynamics. Understanding herbivores is crucial for comprehending the complex interactions within the natural world.\\n', additional_kwargs={}, response_metadata={'safety_ratings': [], 'grounding_metadata': {}, 'model_provider': 'google_genai'}, id='lc_run--fb729867-5d79-4e38-bd07-f4d016cf31c4', usage_metadata={'input_tokens': 0, 'input_token_details': {'cache_read': 0}, 'total_tokens': 0, 'output_tokens': 0})}\n",
      "{'chunk': AIMessageChunk(content='', additional_kwargs={}, response_metadata={'finish_reason': 'STOP', 'model_name': 'gemini-2.0-flash', 'safety_ratings': [], 'grounding_metadata': {}, 'model_provider': 'google_genai'}, id='lc_run--fb729867-5d79-4e38-bd07-f4d016cf31c4', usage_metadata={'input_tokens': -1, 'input_token_details': {'cache_read': 0}, 'total_tokens': 1180, 'output_tokens': 1181})}\n",
      "{'chunk': AIMessageChunk(content='', additional_kwargs={}, response_metadata={}, id='lc_run--fb729867-5d79-4e38-bd07-f4d016cf31c4', chunk_position='last')}\n"
     ]
    }
   ],
   "source": [
    "node_to_stream = 'conversation'\n",
    "config = {\"configurable\": {\"thread_id\": \"d\"}}\n",
    "input_message = HumanMessage(content=\"Tell me about Herbivores\")\n",
    "async for event in graph.astream_events({\"messages\": [input_message]}, config, version=\"v2\"):\n",
    "    # Get chat model tokens from a particular node \n",
    "    if event[\"event\"] == \"on_chat_model_stream\" and event['metadata'].get('langgraph_node','') == node_to_stream:\n",
    "        print(event[\"data\"])"
   ]
  },
  {
   "cell_type": "markdown",
   "id": "226e569a-76c3-43d8-8f89-3ae687efde1c",
   "metadata": {},
   "source": [
    "As you see above, just use the `chunk` key to get the `AIMessageChunk`."
   ]
  },
  {
   "cell_type": "code",
   "execution_count": 8,
   "id": "3aeae53d-6dcf-40d0-a0c6-c40de492cc83",
   "metadata": {},
   "outputs": [
    {
     "name": "stdout",
     "output_type": "stream",
     "text": [
      "Okay|, let's dive into the world of herbivores!\n",
      "\n",
      "**What are Herb|ivores?**\n",
      "\n",
      "Herbivores are animals that primarily eat plants. Their diet consists of leaves|, stems, roots, seeds, fruits, nectar, and even algae. They are a crucial part of the food chain, converting plant matter into energy that can then| be consumed by carnivores or omnivores.\n",
      "\n",
      "**Key Characteristics and Adaptations:**\n",
      "\n",
      "Herbivores have evolved a variety of physical and behavioral adaptations to efficiently consume| and digest plant matter. These adaptations vary depending on the specific type of plant material they eat and their overall lifestyle. Here are some common examples:\n",
      "\n",
      "*   **Teeth:**\n",
      "    *   **Flat, broad molars:**  For| grinding plant material.\n",
      "    *   **Incisors:**  For clipping or tearing vegetation.  Some herbivores, like deer, lack upper incisors and instead have a tough dental pad.\n",
      "    *   **Diastema:**| A gap between the incisors and molars, allowing the tongue to manipulate plant matter.\n",
      "*   **Digestive System:**\n",
      "    *   **Long digestive tracts:** Plant matter is difficult to digest, so herbivores need a longer digestive system to extract nutrients.\n",
      "    *   **Specialized gut bacteria:**  Many| herbivores rely on symbiotic bacteria, protozoa, or fungi in their gut to break down cellulose (the main component of plant cell walls).\n",
      "    *   **Ruminants:**  Some herbivores, like cows, sheep, and goats, are ruminants. They have a multi-chambered stomach (typically four chambers) that| allows them to ferment plant matter and extract more nutrients. They regurgitate partially digested food (cud) and chew it again to further break it down.\n",
      "    *   **Hindgut Fermenters:** Other herbivores, like horses, rabbits, and rodents, are hindgut fermenters. They have a large cecum| (a pouch at the beginning of the large intestine) where fermentation occurs. They may also practice coprophagy (eating their own feces) to extract additional nutrients.\n",
      "*   **Sensory Adaptations:**\n",
      "    *   **Keen sense of smell:** To locate food sources and avoid poisonous plants.\n",
      "    |*   **Good eyesight:** To spot predators in open environments.\n",
      "*   **Behavioral Adaptations:**\n",
      "    *   **Migration:**  Following seasonal changes in vegetation.\n",
      "    *   **Social behavior:**  Living in herds for protection and to share information about food sources.\n",
      "    *   **Selective| feeding:**  Choosing the most nutritious parts of plants.\n",
      "    *   **Detoxification mechanisms:**  To cope with toxins produced by some plants.\n",
      "\n",
      "**Types of Herbivores:**\n",
      "\n",
      "Herbivores can be classified based on the specific types of plants they eat:\n",
      "\n",
      "*   **Grazers:** Primarily eat grasses (|e.g., cows, horses, zebras).\n",
      "*   **Browsers:** Primarily eat leaves, twigs, and shoots of trees and shrubs (e.g., deer, giraffes, goats).\n",
      "*   **Frugivores:** Primarily eat fruits (e.g., bats, monkeys, some birds).\n",
      "*|   **Granivores:** Primarily eat seeds (e.g., birds, rodents).\n",
      "*   **Nectarivores:** Primarily eat nectar (e.g., hummingbirds, butterflies, bats).\n",
      "*   **Folivores:** Primarily eat leaves (e.g., sloths, koalas, caterpillars).\n",
      "*   |**Xylophages:** Primarily eat wood (e.g., termites, some beetles).\n",
      "*   **Aquatic Herbivores:** Eat aquatic plants and algae (e.g., manatees, some fish, snails).\n",
      "\n",
      "**Ecological Importance:**\n",
      "\n",
      "Herbivores play a vital role in ecosystems:\n",
      "\n",
      "*   |**Primary Consumers:** They are the link between plants (producers) and carnivores (secondary consumers).\n",
      "*   **Seed Dispersal:** Frugivores help disperse seeds, contributing to plant reproduction and distribution.\n",
      "*   **Pollination:** Nectarivores pollinate plants, facilitating plant reproduction.\n",
      "*   **Nut|rient Cycling:** Their waste products contribute to nutrient cycling in the soil.\n",
      "*   **Vegetation Control:** They can influence the distribution and abundance of plant species.\n",
      "*   **Food Source:** They are a food source for many carnivores and omnivores.\n",
      "\n",
      "**Examples of Herbivores:**\n",
      "\n",
      "*   **Mammals:**| Cows, horses, deer, elephants, rabbits, kangaroos, sloths, giraffes, pandas, manatees.\n",
      "*   **Birds:** Geese, parrots, hummingbirds, finches.\n",
      "*   **Reptiles:** Iguanas, tortoises.\n",
      "*   **Insects:** Caterpillars, grasshoppers,| aphids, leaf beetles.\n",
      "*   **Fish:** Parrotfish, surgeonfish.\n",
      "*   **Mollusks:** Snails, slugs.\n",
      "\n",
      "**Challenges for Herbivores:**\n",
      "\n",
      "*   **Low Nutritional Value:** Plant matter is often low in nutrients compared to meat.\n",
      "*   **Cellulose Dig|estion:** Cellulose is difficult to break down.\n",
      "*   **Plant Defenses:** Plants have evolved defenses against herbivores, such as thorns, toxins, and tough leaves.\n",
      "*   **Competition:** Herbivores often compete with each other for food resources.\n",
      "*   **Predation:** Herbivores are often preyed| upon by carnivores.\n",
      "\n",
      "**In Summary:**\n",
      "\n",
      "Herbivores are a diverse and essential group of animals that have evolved remarkable adaptations to thrive on a plant-based diet. They play a critical role in ecosystems, influencing plant communities, nutrient cycling, and food web dynamics. Understanding herbivores is crucial for comprehending the complex| interactions within the natural world.\n",
      "||"
     ]
    }
   ],
   "source": [
    "config = {\"configurable\": {\"thread_id\": \"e\"}}\n",
    "input_message = HumanMessage(content=\"Tell me about Herbivores\")\n",
    "async for event in graph.astream_events({\"messages\": [input_message]}, config, version=\"v2\"):\n",
    "    # Get chat model tokens from a particular node \n",
    "    if event[\"event\"] == \"on_chat_model_stream\" and event['metadata'].get('langgraph_node','') == node_to_stream:\n",
    "        data = event[\"data\"]\n",
    "        print(data[\"chunk\"].content, end=\"|\")"
   ]
  },
  {
   "attachments": {},
   "cell_type": "markdown",
   "id": "5826e4d8-846b-4f6c-a5c1-e781d43022db",
   "metadata": {},
   "source": [
    "### Streaming with LangGraph API\n",
    "\n",
    "**⚠️ Notice**\n",
    "\n",
    "Since filming these videos, we've updated Studio so that it can now be run locally and accessed through your browser. This is the preferred way to run Studio instead of using the Desktop App shown in the video. It is now called _LangSmith Studio_ instead of _LangGraph Studio_. Detailed setup instructions are available in the \"Getting Setup\" guide at the start of the course. You can find a description of Studio [here](https://docs.langchain.com/langsmith/studio), and specific details for local deployment [here](https://docs.langchain.com/langsmith/quick-start-studio#local-development-server).  \n",
    "To start the local development server, run the following command in your terminal in the `/studio` directory in this module:\n",
    "\n",
    "```\n",
    "langgraph dev\n",
    "```\n",
    "\n",
    "You should see the following output:\n",
    "```\n",
    "- 🚀 API: http://127.0.0.1:2024\n",
    "- 🎨 Studio UI: https://smith.langchain.com/studio/?baseUrl=http://127.0.0.1:2024\n",
    "- 📚 API Docs: http://127.0.0.1:2024/docs\n",
    "```\n",
    "\n",
    "Open your browser and navigate to the **Studio UI** URL shown above.\n",
    "\n",
    "The LangGraph API [supports editing graph state](https://langchain-ai.github.io/langgraph/cloud/how-tos/human_in_the_loop_edit_state/#initial-invocation). "
   ]
  },
  {
   "cell_type": "code",
   "execution_count": 9,
   "id": "8925b632-512b-48e1-9220-61c06bfbf0b8",
   "metadata": {},
   "outputs": [],
   "source": [
    "if 'google.colab' in str(get_ipython()):\n",
    "    raise Exception(\"Unfortunately LangGraph Studio is currently not supported on Google Colab\")"
   ]
  },
  {
   "cell_type": "code",
   "execution_count": 12,
   "id": "079c2ad6",
   "metadata": {},
   "outputs": [],
   "source": [
    "from langgraph_sdk import get_client\n",
    "\n",
    "\n",
    "\n",
    "# This is the URL of the local development server\n",
    "URL =  \"http://127.0.0.1:2024\"\n",
    "client = get_client(url=URL)\n",
    "\n",
    "# Search all hosted graphs\n",
    "assistants = await client.assistants.search()"
   ]
  },
  {
   "cell_type": "markdown",
   "id": "4d15af9e-0e86-41e3-a5ba-ee2a4aa08a32",
   "metadata": {},
   "source": [
    "Let's [stream `values`](https://langchain-ai.github.io/langgraph/cloud/how-tos/stream_values/), like before."
   ]
  },
  {
   "cell_type": "code",
   "execution_count": 14,
   "id": "63e3096f-5429-4d3c-8de2-2bddf7266ebf",
   "metadata": {},
   "outputs": [
    {
     "name": "stdout",
     "output_type": "stream",
     "text": [
      "StreamPart(event='metadata', data={'run_id': '019a24ee-1bf9-722c-9e06-106d0777a5dd', 'attempt': 1})\n",
      "StreamPart(event='values', data={'messages': [{'content': 'Divide 15 by 3', 'additional_kwargs': {}, 'response_metadata': {}, 'type': 'human', 'name': None, 'id': '1d856ad7-0d28-4428-a266-1fc68146080f'}]})\n",
      "StreamPart(event='error', data={'error': 'RateLimitError', 'message': \"Error code: 429 - {'error': {'message': 'You exceeded your current quota, please check your plan and billing details. For more information on this error, read the docs: https://platform.openai.com/docs/guides/error-codes/api-errors.', 'type': 'insufficient_quota', 'param': None, 'code': 'insufficient_quota'}}\"})\n"
     ]
    }
   ],
   "source": [
    "# Create a new thread\n",
    "thread = await client.threads.create()\n",
    "# Input message\n",
    "input_message = HumanMessage(content=\"Divide 15 by 3\")\n",
    "async for event in client.runs.stream(thread[\"thread_id\"], \n",
    "                                      assistant_id=\"chatbot\", \n",
    "                                      input={\"messages\": [input_message]}, \n",
    "                                      stream_mode=\"values\"):\n",
    "    print(event)"
   ]
  },
  {
   "cell_type": "markdown",
   "id": "556dc7fd-1cae-404f-816a-f13d772b3b14",
   "metadata": {},
   "source": [
    "The streamed objects have: \n",
    "\n",
    "* `event`: Type\n",
    "* `data`: State"
   ]
  },
  {
   "cell_type": "code",
   "execution_count": 18,
   "id": "57b735aa-139c-45a3-a850-63519c0004f0",
   "metadata": {},
   "outputs": [
    {
     "name": "stdout",
     "output_type": "stream",
     "text": [
      "=========================\n",
      "content='Divide 15 by 3' additional_kwargs={} response_metadata={} id='29619f11-630f-4bfe-929c-c3a138675055'\n",
      "=========================\n",
      "=========================\n"
     ]
    }
   ],
   "source": [
    "from langchain_core.messages import convert_to_messages\n",
    "\n",
    "# Create a new thread\n",
    "thread = await client.threads.create()\n",
    "\n",
    "# Input message\n",
    "input_message = HumanMessage(content=\"Divide 15 by 3\")\n",
    "\n",
    "# Run the assistant (using correct assistant_id)\n",
    "async for event in client.runs.stream(\n",
    "    thread[\"thread_id\"],\n",
    "    assistant_id=\"chatbot\",   # ✅ Use \"chatbot\" here\n",
    "    input={\"messages\": [input_message]},\n",
    "    stream_mode=\"values\"\n",
    "):\n",
    "    messages = event.data.get('messages', None)\n",
    "    if messages:\n",
    "        print(convert_to_messages(messages)[-1])\n",
    "    print('=' * 25)\n"
   ]
  },
  {
   "cell_type": "markdown",
   "id": "a555d186-27be-4ddf-934c-895a3105035d",
   "metadata": {},
   "source": [
    "There are some new streaming mode that are only supported via the API.\n",
    "\n",
    "For example, we can [use `messages` mode](https://langchain-ai.github.io/langgraph/cloud/how-tos/stream_messages/) to better handle the above case!\n",
    "\n",
    "This mode currently assumes that you have a `messages` key in your graph, which is a list of messages.\n",
    "\n",
    "All events emitted using `messages` mode have two attributes:\n",
    "\n",
    "* `event`: This is the name of the event\n",
    "* `data`: This is data associated with the event"
   ]
  },
  {
   "cell_type": "code",
   "execution_count": 31,
   "id": "038d3d9d",
   "metadata": {},
   "outputs": [],
   "source": [
    "from langchain_google_genai import ChatGoogleGenerativeAI\n",
    "model = ChatGoogleGenerativeAI(model=\"gemini-2.0-flash\", temperature=0)"
   ]
  },
  {
   "cell_type": "code",
   "execution_count": 48,
   "id": "4abd91f6-63c0-41ee-9988-7c8248b88a45",
   "metadata": {},
   "outputs": [
    {
     "name": "stdout",
     "output_type": "stream",
     "text": [
      "=========================\n",
      "content='Divide 15 by 3' additional_kwargs={} response_metadata={} id='3c7e8f8c-717f-421d-b770-d4f25933d826'\n",
      "=========================\n",
      "content='To divide 15 by 3, you are asking how many times 3 fits into 15.\\n\\n15 ÷ 3 = 5\\n\\nSo, 15 divided by 3 is **5**.' additional_kwargs={'invalid_tool_calls': [], 'usage_metadata': {'input_tokens': 8, 'output_tokens': 77, 'total_tokens': 85, 'input_token_details': {'cache_read': 0}, 'output_token_details': {'reasoning': 31}}} response_metadata={'prompt_feedback': {'block_reason': 0, 'safety_ratings': []}, 'finish_reason': 'STOP', 'model_name': 'gemini-2.5-flash', 'safety_ratings': [], 'grounding_metadata': {}, 'model_provider': 'google_genai'} id='lc_run--3746cac7-9739-4616-a58a-0f06634ac695-0'\n",
      "=========================\n"
     ]
    }
   ],
   "source": [
    "from langchain_core.messages import convert_to_messages\n",
    "thread = await client.threads.create()\n",
    "input_message = HumanMessage(content=\"Divide 15 by 3\")\n",
    "async for event in client.runs.stream(thread[\"thread_id\"], assistant_id=\"chatbot\", input={\"messages\": [input_message]}, stream_mode=\"values\"):\n",
    "    messages = event.data.get('messages',None)\n",
    "    if messages:\n",
    "        print(convert_to_messages(messages)[-1])\n",
    "    print('='*25)\n",
    "\n"
   ]
  },
  {
   "cell_type": "code",
   "execution_count": 45,
   "id": "69cbbcbb",
   "metadata": {},
   "outputs": [
    {
     "name": "stdout",
     "output_type": "stream",
     "text": [
      "metadata\n",
      "messages/metadata\n",
      "messages/partial\n",
      "messages/partial\n"
     ]
    }
   ],
   "source": [
    "thread = await client.threads.create()\n",
    "input_message = HumanMessage(content=\"Divide 15 by 3\")\n",
    "async for event in client.runs.stream(thread[\"thread_id\"], \n",
    "                                      assistant_id=\"chatbot\", \n",
    "                                      input={\"messages\": [input_message]}, \n",
    "                                      stream_mode=\"messages\"):\n",
    "    print(event.event)"
   ]
  },
  {
   "cell_type": "markdown",
   "id": "8de2f1ea-b232-43fc-af7a-320efce83381",
   "metadata": {},
   "source": [
    "We can see a few events: \n",
    "\n",
    "* `metadata`: metadata about the run\n",
    "* `messages/complete`: fully formed message \n",
    "* `messages/partial`: chat model tokens\n",
    "\n",
    "You can dig further into the types [here](https://langchain-ai.github.io/langgraph/cloud/concepts/api/#modemessages).\n",
    "\n",
    "Now, let's show how to stream these messages. \n",
    "\n",
    "We'll define a helper function for better formatting of the tool calls in messages."
   ]
  },
  {
   "cell_type": "code",
   "execution_count": 47,
   "id": "50a85e16-6e3f-4f14-bcf9-8889a762f522",
   "metadata": {},
   "outputs": [
    {
     "name": "stdout",
     "output_type": "stream",
     "text": [
      "Metadata: Run ID - 019a2517-3173-76ef-b93b-34ac360e425d\n",
      "--------------------------------------------------\n",
      "AI: To divide 15 by 3, you are looking for how many times 3 fits into 15.\n",
      "\n",
      "15 ÷ 3 = 5\n",
      "\n",
      "So, 15 divided by 3 is **5**.\n",
      "Response Metadata: Finish Reason - STOP\n",
      "--------------------------------------------------\n",
      "AI: To divide 15 by 3, you are looking for how many times 3 fits into 15.\n",
      "\n",
      "15 ÷ 3 = 5\n",
      "\n",
      "So, 15 divided by 3 is **5**.\n",
      "Response Metadata: Finish Reason - STOP\n",
      "--------------------------------------------------\n"
     ]
    }
   ],
   "source": [
    "thread = await client.threads.create()\n",
    "input_message = HumanMessage(content=\"Divide 15 by 3\")\n",
    "\n",
    "def format_tool_calls(tool_calls):\n",
    "    \"\"\"\n",
    "    Format a list of tool calls into a readable string.\n",
    "\n",
    "    Args:\n",
    "        tool_calls (list): A list of dictionaries, each representing a tool call.\n",
    "            Each dictionary should have 'id', 'name', and 'args' keys.\n",
    "\n",
    "    Returns:\n",
    "        str: A formatted string of tool calls, or \"No tool calls\" if the list is empty.\n",
    "\n",
    "    \"\"\"\n",
    "\n",
    "    if tool_calls:\n",
    "        formatted_calls = []\n",
    "        for call in tool_calls:\n",
    "            formatted_calls.append(\n",
    "                f\"Tool Call ID: {call['id']}, Function: {call['name']}, Arguments: {call['args']}\"\n",
    "            )\n",
    "        return \"\\n\".join(formatted_calls)\n",
    "    return \"No tool calls\"\n",
    "\n",
    "async for event in client.runs.stream(\n",
    "    thread[\"thread_id\"],\n",
    "    assistant_id=\"chatbot\",\n",
    "    input={\"messages\": [input_message]},\n",
    "    stream_mode=\"messages\",):\n",
    "    \n",
    "    # Handle metadata events\n",
    "    if event.event == \"metadata\":\n",
    "        print(f\"Metadata: Run ID - {event.data['run_id']}\")\n",
    "        print(\"-\" * 50)\n",
    "    \n",
    "    # Handle partial message events\n",
    "    elif event.event == \"messages/partial\":\n",
    "        for data_item in event.data:\n",
    "            # Process user messages\n",
    "            if \"role\" in data_item and data_item[\"role\"] == \"user\":\n",
    "                print(f\"Human: {data_item['content']}\")\n",
    "            else:\n",
    "                # Extract relevant data from the event\n",
    "                tool_calls = data_item.get(\"tool_calls\", [])\n",
    "                invalid_tool_calls = data_item.get(\"invalid_tool_calls\", [])\n",
    "                content = data_item.get(\"content\", \"\")\n",
    "                response_metadata = data_item.get(\"response_metadata\", {})\n",
    "\n",
    "                if content:\n",
    "                    print(f\"AI: {content}\")\n",
    "\n",
    "                if tool_calls:\n",
    "                    print(\"Tool Calls:\")\n",
    "                    print(format_tool_calls(tool_calls))\n",
    "\n",
    "                if invalid_tool_calls:\n",
    "                    print(\"Invalid Tool Calls:\")\n",
    "                    print(format_tool_calls(invalid_tool_calls))\n",
    "\n",
    "                if response_metadata and response_metadata.get(\"finish_reason\"):\n",
    "                    print(f\"Response Metadata: Finish Reason - {response_metadata['finish_reason']}\")                    \n",
    "        print(\"-\" * 50)"
   ]
  },
  {
   "cell_type": "code",
   "execution_count": null,
   "id": "1ae885f8-102f-448a-9d68-8ded8d2bbd18",
   "metadata": {},
   "outputs": [],
   "source": []
  }
 ],
 "metadata": {
  "kernelspec": {
   "display_name": ".env_lang",
   "language": "python",
   "name": "python3"
  },
  "language_info": {
   "codemirror_mode": {
    "name": "ipython",
    "version": 3
   },
   "file_extension": ".py",
   "mimetype": "text/x-python",
   "name": "python",
   "nbconvert_exporter": "python",
   "pygments_lexer": "ipython3",
   "version": "3.13.7"
  }
 },
 "nbformat": 4,
 "nbformat_minor": 5
}

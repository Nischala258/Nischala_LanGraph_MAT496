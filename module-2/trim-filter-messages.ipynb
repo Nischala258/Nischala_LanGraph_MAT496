{
 "cells": [
  {
   "cell_type": "markdown",
   "id": "fb0ebaf1",
   "metadata": {},
   "source": [
    "[![Open in Colab](https://colab.research.google.com/assets/colab-badge.svg)](https://colab.research.google.com/github/langchain-ai/langchain-academy/blob/main/module-2/trim-filter-messages.ipynb) [![Open in LangChain Academy](https://cdn.prod.website-files.com/65b8cd72835ceeacd4449a53/66e9eba12c7b7688aa3dbb5e_LCA-badge-green.svg)](https://academy.langchain.com/courses/take/intro-to-langgraph/lessons/58239435-lesson-4-trim-and-filter-messages)"
   ]
  },
  {
   "cell_type": "markdown",
   "id": "c52ea2f9-03ff-4647-b782-46867ebed04e",
   "metadata": {},
   "source": [
    "# Filtering and trimming messages\n",
    "\n",
    "## Review\n",
    "\n",
    "Now, we have a deeper understanding of a few things: \n",
    "\n",
    "* How to customize the graph state schema\n",
    "* How to define custom state reducers\n",
    "* How to use multiple graph state schemas\n",
    "\n",
    "## Goals\n",
    "\n",
    "Now, we can start using these concepts with models in LangGraph!\n",
    " \n",
    "In the next few sessions, we'll build towards a chatbot that has long-term memory.\n",
    "\n",
    "Because our chatbot will use messages, let's first talk a bit more about advanced ways to work with messages in graph state."
   ]
  },
  {
   "cell_type": "code",
   "execution_count": null,
   "id": "d5197aba-5d46-421b-ae3b-4e3034edcfda",
   "metadata": {},
   "outputs": [],
   "source": [
    "%%capture --no-stderr\n",
    "%pip install --quiet -U langchain_core langgraph langchain_openai"
   ]
  },
  {
   "cell_type": "code",
   "execution_count": 1,
   "id": "768dc606-d5f2-468d-96ea-910b264e0f8a",
   "metadata": {},
   "outputs": [],
   "source": [
    "import os\n",
    "import getpass\n",
    "\n",
    "def _set_env(var: str):\n",
    "    if not os.environ.get(var):\n",
    "        os.environ[var] = getpass.getpass(f\"{var}: \")\n",
    "\n",
    "# For Google Gemini (Google AI)\n",
    "_set_env(\"GOOGLE_API_KEY\")\n"
   ]
  },
  {
   "cell_type": "markdown",
   "id": "8b64d8d3-e4ac-4961-bdc0-688825eb5864",
   "metadata": {},
   "source": [
    "We'll use [LangSmith](https://docs.smith.langchain.com/) for [tracing](https://docs.smith.langchain.com/concepts/tracing).\n",
    "\n",
    "We'll log to a project, `langchain-academy`. "
   ]
  },
  {
   "cell_type": "code",
   "execution_count": 2,
   "id": "dd020c79",
   "metadata": {},
   "outputs": [],
   "source": [
    "_set_env(\"LANGSMITH_API_KEY\")\n",
    "os.environ[\"LANGSMITH_TRACING\"] = \"true\"\n",
    "os.environ[\"LANGSMITH_PROJECT\"] = \"langchain-academy\""
   ]
  },
  {
   "cell_type": "markdown",
   "id": "72f3fc90-58b6-4f7f-897e-dddf6ae532c7",
   "metadata": {},
   "source": [
    "## Messages as state\n",
    "\n",
    "First, let's define some messages."
   ]
  },
  {
   "cell_type": "code",
   "execution_count": 1,
   "id": "cf11a463-e27a-4a05-b41d-64882e38edca",
   "metadata": {},
   "outputs": [
    {
     "name": "stdout",
     "output_type": "stream",
     "text": [
      "==================================\u001b[1m Ai Message \u001b[0m==================================\n",
      "Name: Bot\n",
      "\n",
      "So you said you were studying science?\n",
      "================================\u001b[1m Human Message \u001b[0m=================================\n",
      "Name: Nischala\n",
      "\n",
      "Yes, I know about Herbivores. But what others should I learn about?\n"
     ]
    }
   ],
   "source": [
    "from pprint import pprint\n",
    "from langchain_core.messages import AIMessage, HumanMessage\n",
    "messages = [AIMessage(f\"So you said you were studying science?\", name=\"Bot\")]\n",
    "messages.append(HumanMessage(f\"Yes, I know about Herbivores. But what others should I learn about?\", name=\"Nischala\"))\n",
    "\n",
    "for m in messages:\n",
    "    m.pretty_print()"
   ]
  },
  {
   "cell_type": "markdown",
   "id": "b814adcb-6bf9-4b75-be11-e59f933fbd0c",
   "metadata": {},
   "source": [
    "Recall we can pass them to a chat model."
   ]
  },
  {
   "cell_type": "code",
   "execution_count": 6,
   "id": "4712e288-e622-48a2-ad3f-a52f65f3ab08",
   "metadata": {},
   "outputs": [
    {
     "name": "stdout",
     "output_type": "stream",
     "text": [
      "content='That\\'s great! Knowing about herbivores is an excellent start. To get a more complete picture of how animals fit into ecosystems, you should definitely learn about the other major dietary classifications.\\n\\nHere are the key ones:\\n\\n1.  **Carnivores:**\\n    *   **What they eat:** Meat. They primarily feed on other animals.\\n    *   **Examples:** Lions, tigers, wolves, eagles, sharks, snakes.\\n    *   **Key characteristics:** Often have sharp teeth (canines), claws, and keen senses (sight, smell, hearing) to hunt and capture prey. Some are ambush predators, others chase.\\n\\n2.  **Omnivores:**\\n    *   **What they eat:** Both plants and animals. They have a diverse diet.\\n    *   **Examples:** Humans, bears, raccoons, pigs, chickens, many primates.\\n    *   **Key characteristics:** Very adaptable, as they can find food from various sources. Their teeth are often a mix, suitable for grinding plants and tearing meat.\\n\\n3.  **Detritivores / Decomposers:**\\n    *   **What they eat:** Dead organic matter (detritus), such as decaying plants, dead animals, or waste products.\\n    *   **Examples:** Earthworms, millipedes, dung beetles, some types of fungi and bacteria.\\n    *   **Key characteristics:** They are crucial for nutrient cycling in ecosystems, breaking down dead material and returning nutrients to the soil. Detritivores typically *ingest* chunks of dead matter, while decomposers (like fungi and bacteria) break it down externally.\\n\\nBeyond these main categories, there are also some more specific or overlapping roles:\\n\\n*   **Scavengers:**\\n    *   **What they eat:** Primarily carrion (the flesh of dead animals) that they *did not kill* themselves.\\n    *   **Examples:** Vultures, hyenas (though hyenas also hunt), some beetles, crabs.\\n    *   **Key characteristics:** They often play a \"cleanup\" role, preventing the spread of disease by consuming carcasses. Many scavengers are also carnivores or omnivores.\\n\\n*   **Parasites:**\\n    *   **What they eat:** They live on or in another organism (the host) and obtain nutrients at the host\\'s expense.\\n    *   **Examples:** Ticks, fleas, tapeworms, leeches, mistletoe (a parasitic plant).\\n    *   **Key characteristics:** They typically do not kill their host immediately, as their survival depends on the host\\'s continued existence. They have specialized adaptations for attachment and feeding.\\n\\n**In summary, to understand animal diets comprehensively, focus on:**\\n\\n*   **Herbivores** (plants)\\n*   **Carnivores** (meat)\\n*   **Omnivores** (both plants and meat)\\n*   **Detritivores/Decomposers** (dead organic matter)\\n\\nAnd then consider the specialized roles like **Scavengers** and **Parasites**. Each of these plays a vital part in maintaining the balance of an ecosystem!' additional_kwargs={} response_metadata={'prompt_feedback': {'block_reason': 0, 'safety_ratings': []}, 'finish_reason': 'STOP', 'model_name': 'gemini-2.5-flash', 'safety_ratings': [], 'grounding_metadata': {}, 'model_provider': 'google_genai'} id='lc_run--a592b5c9-78a0-4fee-816b-5a61d45ace67-0' usage_metadata={'input_tokens': 26, 'output_tokens': 1690, 'total_tokens': 1716, 'input_token_details': {'cache_read': 0}, 'output_token_details': {'reasoning': 1043}}\n"
     ]
    }
   ],
   "source": [
    "from langchain_google_genai import ChatGoogleGenerativeAI\n",
    "import os, getpass\n",
    "llm = ChatGoogleGenerativeAI(model=\"gemini-2.5-flash\")\n",
    "\n",
    "# Invoke the model with messages\n",
    "response = llm.invoke(messages)\n",
    "\n",
    "print(response)"
   ]
  },
  {
   "cell_type": "markdown",
   "id": "fbd1dab8-0af8-4621-8264-ce65065f76ec",
   "metadata": {},
   "source": [
    "We can run our chat model in a simple graph with `MessagesState`."
   ]
  },
  {
   "cell_type": "code",
   "execution_count": 7,
   "id": "bbd8c39c-633b-4176-9cc6-8318e42bb5dd",
   "metadata": {},
   "outputs": [
    {
     "data": {
      "image/png": "[encoded data removed]",
      "text/plain": [
       "<IPython.core.display.Image object>"
      ]
     },
     "metadata": {},
     "output_type": "display_data"
    }
   ],
   "source": [
    "from IPython.display import Image, display\n",
    "from langgraph.graph import MessagesState\n",
    "from langgraph.graph import StateGraph, START, END\n",
    "\n",
    "# Node\n",
    "def chat_model_node(state: MessagesState):\n",
    "    return {\"messages\": llm.invoke(state[\"messages\"])}\n",
    "\n",
    "# Build graph\n",
    "builder = StateGraph(MessagesState)\n",
    "builder.add_node(\"chat_model\", chat_model_node)\n",
    "builder.add_edge(START, \"chat_model\")\n",
    "builder.add_edge(\"chat_model\", END)\n",
    "graph = builder.compile()\n",
    "\n",
    "# View\n",
    "display(Image(graph.get_graph().draw_mermaid_png()))"
   ]
  },
  {
   "cell_type": "code",
   "execution_count": 8,
   "id": "3a5a3e4a-ccfd-4d14-81f1-f0de6e11a1e4",
   "metadata": {},
   "outputs": [
    {
     "name": "stdout",
     "output_type": "stream",
     "text": [
      "==================================\u001b[1m Ai Message \u001b[0m==================================\n",
      "Name: Bot\n",
      "\n",
      "So you said you were studying science?\n",
      "================================\u001b[1m Human Message \u001b[0m=================================\n",
      "Name: Nischala\n",
      "\n",
      "Yes, I know about Herbivores. But what others should I learn about?\n",
      "==================================\u001b[1m Ai Message \u001b[0m==================================\n",
      "\n",
      "That's great you're starting with Herbivores! They're a fundamental part of any ecosystem.\n",
      "\n",
      "To broaden your understanding of animal diets, here are the other key categories you should learn about, along with some more specific sub-categories:\n",
      "\n",
      "1.  **Carnivores:**\n",
      "    *   **Definition:** Animals that primarily eat other animals. Their digestive systems are adapted to break down meat.\n",
      "    *   **Examples:** Lions, tigers, wolves, eagles, sharks, snakes.\n",
      "    *   **Sub-categories (more specific diets within carnivores):**\n",
      "        *   **Insectivores:** Primarily eat insects. (e.g., anteaters, aardvarks, many birds, bats, spiders).\n",
      "        *   **Piscivores:** Primarily eat fish. (e.g., otters, kingfishers, some bears, seals).\n",
      "        *   **Sanguinivores:** Primarily feed on blood. (e.g., vampire bats, mosquitoes, leeches).\n",
      "        *   **Ovivores:** Primarily eat eggs. (e.g., some snakes, raccoons).\n",
      "\n",
      "2.  **Omnivores:**\n",
      "    *   **Definition:** Animals that eat both plants and animals. They have a more flexible digestive system capable of processing a variety of foods.\n",
      "    *   **Examples:** Humans, bears, raccoons, pigs, many monkeys, chickens.\n",
      "\n",
      "3.  **Scavengers:**\n",
      "    *   **Definition:** Animals that primarily feed on carrion (dead animals) that they did not kill themselves. They play a crucial role in cleaning up ecosystems.\n",
      "    *   **Examples:** Vultures, hyenas, many beetles, crabs, some sharks. (Note: Many carnivores and omnivores will also scavenge if given the opportunity, but for scavengers, it's their primary mode of feeding).\n",
      "\n",
      "4.  **Detritivores:**\n",
      "    *   **Definition:** Animals that feed on detritus (dead organic matter, including decaying plants, animals, and feces). They are essential for breaking down organic material and recycling nutrients.\n",
      "    *   **Examples:** Earthworms, millipedes, dung beetles, sea cucumbers. (Often overlap with scavengers, but detritivores typically consume more decomposed material).\n",
      "\n",
      "5.  **Parasites:**\n",
      "    *   **Definition:** Organisms that live on or in a host organism and obtain nutrients from it, usually harming the host in the process (but typically not killing it immediately, as they rely on the host for survival).\n",
      "    *   **Examples:** Ticks, fleas, tapeworms, leeches (some are also sanguinivores), mosquitos (some are sanguinivores).\n",
      "\n",
      "**Why are these categories important?**\n",
      "\n",
      "*   **Food Webs:** Understanding who eats what is fundamental to mapping out food webs and energy flow in an ecosystem.\n",
      "*   **Ecological Roles:** Each feeding type plays a distinct role in maintaining the balance and health of an ecosystem (e.g., predators control prey populations, scavengers and detritivores recycle nutrients).\n",
      "*   **Adaptations:** Different diets lead to fascinating physical and behavioral adaptations (e.g., sharp teeth and claws for carnivores, flat grinding teeth for herbivores, specialized beaks, long tongues, digestive enzymes).\n",
      "\n",
      "By learning about these different dietary strategies, you'll gain a much deeper appreciation for the complexity and interconnectedness of the natural world!\n"
     ]
    }
   ],
   "source": [
    "output = graph.invoke({'messages': messages})\n",
    "for m in output['messages']:\n",
    "    m.pretty_print()"
   ]
  },
  {
   "cell_type": "markdown",
   "id": "34c33e63-1ef4-412d-bb10-6a1b9e5b35a7",
   "metadata": {},
   "source": [
    "## Reducer\n",
    "\n",
    "A practical challenge when working with messages is managing long-running conversations. \n",
    "\n",
    "Long-running conversations result in high token usage and latency if we are not careful, because we pass a growing list of messages to the model.\n",
    "\n",
    "We have a few ways to address this.\n",
    "\n",
    "First, recall the trick we saw using `RemoveMessage` and the `add_messages` reducer."
   ]
  },
  {
   "cell_type": "code",
   "execution_count": 9,
   "id": "222c6bc5-bb0e-4a43-80f5-c8ec38d99f3a",
   "metadata": {},
   "outputs": [
    {
     "data": {
      "image/png": "[encoded data removed]",
      "text/plain": [
       "<IPython.core.display.Image object>"
      ]
     },
     "metadata": {},
     "output_type": "display_data"
    }
   ],
   "source": [
    "from langchain_core.messages import RemoveMessage\n",
    "\n",
    "# Nodes\n",
    "def filter_messages(state: MessagesState):\n",
    "    # Delete all but the 2 most recent messages\n",
    "    delete_messages = [RemoveMessage(id=m.id) for m in state[\"messages\"][:-2]]\n",
    "    return {\"messages\": delete_messages}\n",
    "\n",
    "def chat_model_node(state: MessagesState):    \n",
    "    return {\"messages\": [llm.invoke(state[\"messages\"])]}\n",
    "\n",
    "# Build graph\n",
    "builder = StateGraph(MessagesState)\n",
    "builder.add_node(\"filter\", filter_messages)\n",
    "builder.add_node(\"chat_model\", chat_model_node)\n",
    "builder.add_edge(START, \"filter\")\n",
    "builder.add_edge(\"filter\", \"chat_model\")\n",
    "builder.add_edge(\"chat_model\", END)\n",
    "graph = builder.compile()\n",
    "\n",
    "# View\n",
    "display(Image(graph.get_graph().draw_mermaid_png()))"
   ]
  },
  {
   "cell_type": "code",
   "execution_count": 10,
   "id": "95a7c2cc-54ce-43e7-9a90-abf37827d709",
   "metadata": {},
   "outputs": [
    {
     "name": "stdout",
     "output_type": "stream",
     "text": [
      "==================================\u001b[1m Ai Message \u001b[0m==================================\n",
      "Name: Bot\n",
      "\n",
      "So you said you were studying science?\n",
      "================================\u001b[1m Human Message \u001b[0m=================================\n",
      "Name: Nischala\n",
      "\n",
      "Yes, I know about Herbivores. But what others should I learn about?\n",
      "==================================\u001b[1m Ai Message \u001b[0m==================================\n",
      "\n",
      "That's a great start! Understanding herbivores (primary consumers) is fundamental. To build on that, you should definitely learn about the other major feeding categories and how they all interact within an ecosystem.\n",
      "\n",
      "Here's a breakdown of what else to learn about:\n",
      "\n",
      "1.  **Carnivores:**\n",
      "    *   **What they are:** Animals that primarily eat other animals.\n",
      "    *   **Examples:** Lions, wolves, eagles, sharks.\n",
      "    *   **Key concept:** They are secondary, tertiary, or even quaternary consumers, depending on what their prey eats.\n",
      "\n",
      "2.  **Omnivores:**\n",
      "    *   **What they are:** Animals that eat both plants and animals.\n",
      "    *   **Examples:** Humans, bears, raccoons, chickens.\n",
      "    *   **Key concept:** They can occupy multiple trophic levels (e.g., primary consumer when eating plants, secondary when eating herbivores).\n",
      "\n",
      "3.  **Producers (Autotrophs):**\n",
      "    *   **What they are:** Organisms that produce their own food, usually through photosynthesis (using sunlight) or chemosynthesis (using chemical energy). They form the base of almost all food webs.\n",
      "    *   **Examples:** Plants, algae, some bacteria.\n",
      "    *   **Key concept:** Without producers, there would be no energy for herbivores, carnivores, or omnivores.\n",
      "\n",
      "4.  **Decomposers (Detritivores):**\n",
      "    *   **What they are:** Organisms that break down dead organic matter (plants and animals) and waste products, returning nutrients to the soil or water.\n",
      "    *   **Examples:** Bacteria, fungi, earthworms, some insects.\n",
      "    *   **Key concept:** Essential for nutrient cycling and preventing the accumulation of dead material. They complete the food web.\n",
      "\n",
      "5.  **Scavengers:**\n",
      "    *   **What they are:** Animals that feed on the carcasses of dead animals that they did not kill themselves.\n",
      "    *   **Examples:** Vultures, hyenas, some beetles.\n",
      "    *   **Key concept:** They play a role in cleaning up ecosystems, often working alongside decomposers.\n",
      "\n",
      "---\n",
      "\n",
      "Beyond just *what* they eat, you should also understand the **relationships and concepts** that connect these groups:\n",
      "\n",
      "6.  **Food Chains:**\n",
      "    *   **What they are:** A simple, linear sequence showing how energy is transferred from one organism to another (e.g., Grass → Rabbit → Fox).\n",
      "\n",
      "7.  **Food Webs:**\n",
      "    *   **What they are:** A more complex and realistic representation of feeding relationships in an ecosystem, showing multiple interconnected food chains.\n",
      "\n",
      "8.  **Trophic Levels:**\n",
      "    *   **What they are:** The hierarchical levels in an ecosystem, showing the position an organism occupies in a food chain (e.g., Producers, Primary Consumers (herbivores), Secondary Consumers (carnivores/omnivores), Tertiary Consumers, etc.).\n",
      "\n",
      "9.  **Energy Flow:**\n",
      "    *   **Key concept:** How energy moves through an ecosystem, typically from producers to consumers. Understand the \"10% rule\" – only about 10% of the energy from one trophic level is transferred to the next.\n",
      "\n",
      "10. **Predator-Prey Relationships:**\n",
      "    *   **What they are:** The interaction where one organism (the predator) hunts and kills another (the prey) for food. This is a fundamental interaction in most ecosystems.\n",
      "\n",
      "11. **Symbiosis:**\n",
      "    *   **What it is:** A close and long-term interaction between two different biological organisms.\n",
      "    *   **Types:**\n",
      "        *   **Mutualism:** Both organisms benefit (e.g., bees and flowers).\n",
      "        *   **Commensalism:** One organism benefits, and the other is neither harmed nor helped (e.g., barnacles on whales).\n",
      "        *   **Parasitism:** One organism (the parasite) benefits at the expense of the other (the host) (e.g., ticks on deer).\n",
      "\n",
      "12. **Competition:**\n",
      "    *   **What it is:** When two or more organisms require the same limited resources (food, water, shelter, mates). Can be intraspecific (within the same species) or interspecific (between different species).\n",
      "\n",
      "13. **Adaptations:**\n",
      "    *   **Key concept:** How organisms evolve specific traits (physical characteristics, behaviors) that help them survive and reproduce in their environment, often related to their feeding strategy (e.g., sharp claws for predators, camouflage for prey, specialized teeth for herbivores).\n",
      "\n",
      "Learning about these concepts will give you a comprehensive understanding of how living things interact in the natural world!\n"
     ]
    }
   ],
   "source": [
    "# Message list with a preamble\n",
    "messages = [AIMessage(\"Hi.\", name=\"Bot\", id=\"a\")]\n",
    "messages.append(HumanMessage(\"Hi.\", name=\"Nischala\", id=\"b\"))\n",
    "messages.append(AIMessage(\"So you said you were studying science?\", name=\"Bot\", id=\"c\"))\n",
    "messages.append(HumanMessage(\"Yes, I know about Herbivores. But what others should I learn about?\", name=\"Nischala\", id=\"d\"))\n",
    "\n",
    "# Invoke\n",
    "output = graph.invoke({'messages': messages})\n",
    "for m in output['messages']:\n",
    "    m.pretty_print()"
   ]
  },
  {
   "cell_type": "markdown",
   "id": "f506457d-014b-4fee-a684-e5edfb4b8f0d",
   "metadata": {},
   "source": [
    "## Filtering messages\n",
    "\n",
    "If you don't need or want to modify the graph state, you can just filter the messages you pass to the chat model.\n",
    "\n",
    "For example, just pass in a filtered list: `llm.invoke(messages[-1:])` to the model."
   ]
  },
  {
   "cell_type": "code",
   "execution_count": 11,
   "id": "22d0b904-7cd6-486b-8948-105bee3d4683",
   "metadata": {},
   "outputs": [
    {
     "data": {
      "image/png": "[encoded data removed]",
      "text/plain": [
       "<IPython.core.display.Image object>"
      ]
     },
     "metadata": {},
     "output_type": "display_data"
    }
   ],
   "source": [
    "# Node\n",
    "def chat_model_node(state: MessagesState):\n",
    "    return {\"messages\": [llm.invoke(state[\"messages\"][-1:])]}\n",
    "\n",
    "# Build graph\n",
    "builder = StateGraph(MessagesState)\n",
    "builder.add_node(\"chat_model\", chat_model_node)\n",
    "builder.add_edge(START, \"chat_model\")\n",
    "builder.add_edge(\"chat_model\", END)\n",
    "graph = builder.compile()\n",
    "\n",
    "# View\n",
    "display(Image(graph.get_graph().draw_mermaid_png()))"
   ]
  },
  {
   "cell_type": "markdown",
   "id": "6f58c6fc-532f-418d-b70a-cfcb3307daf5",
   "metadata": {},
   "source": [
    "Let's take our existing list of messages, append the above LLM response, and append a follow-up question."
   ]
  },
  {
   "cell_type": "code",
   "execution_count": 13,
   "id": "16956015-1dbe-4108-89b5-4209b68b51ca",
   "metadata": {},
   "outputs": [],
   "source": [
    "messages.append(output['messages'][-1])\n",
    "messages.append(HumanMessage(f\"Tell me more about Carnivores!\", name=\"Nischala\"))"
   ]
  },
  {
   "cell_type": "code",
   "execution_count": 14,
   "id": "85563415-c085-46a8-a4ac-155df798c54e",
   "metadata": {},
   "outputs": [
    {
     "name": "stdout",
     "output_type": "stream",
     "text": [
      "==================================\u001b[1m Ai Message \u001b[0m==================================\n",
      "Name: Bot\n",
      "\n",
      "Hi.\n",
      "================================\u001b[1m Human Message \u001b[0m=================================\n",
      "Name: Nischala\n",
      "\n",
      "Hi.\n",
      "==================================\u001b[1m Ai Message \u001b[0m==================================\n",
      "Name: Bot\n",
      "\n",
      "So you said you were studying science?\n",
      "================================\u001b[1m Human Message \u001b[0m=================================\n",
      "Name: Nischala\n",
      "\n",
      "Yes, I know about Herbivores. But what others should I learn about?\n",
      "==================================\u001b[1m Ai Message \u001b[0m==================================\n",
      "\n",
      "That's a great start! Understanding herbivores (primary consumers) is fundamental. To build on that, you should definitely learn about the other major feeding categories and how they all interact within an ecosystem.\n",
      "\n",
      "Here's a breakdown of what else to learn about:\n",
      "\n",
      "1.  **Carnivores:**\n",
      "    *   **What they are:** Animals that primarily eat other animals.\n",
      "    *   **Examples:** Lions, wolves, eagles, sharks.\n",
      "    *   **Key concept:** They are secondary, tertiary, or even quaternary consumers, depending on what their prey eats.\n",
      "\n",
      "2.  **Omnivores:**\n",
      "    *   **What they are:** Animals that eat both plants and animals.\n",
      "    *   **Examples:** Humans, bears, raccoons, chickens.\n",
      "    *   **Key concept:** They can occupy multiple trophic levels (e.g., primary consumer when eating plants, secondary when eating herbivores).\n",
      "\n",
      "3.  **Producers (Autotrophs):**\n",
      "    *   **What they are:** Organisms that produce their own food, usually through photosynthesis (using sunlight) or chemosynthesis (using chemical energy). They form the base of almost all food webs.\n",
      "    *   **Examples:** Plants, algae, some bacteria.\n",
      "    *   **Key concept:** Without producers, there would be no energy for herbivores, carnivores, or omnivores.\n",
      "\n",
      "4.  **Decomposers (Detritivores):**\n",
      "    *   **What they are:** Organisms that break down dead organic matter (plants and animals) and waste products, returning nutrients to the soil or water.\n",
      "    *   **Examples:** Bacteria, fungi, earthworms, some insects.\n",
      "    *   **Key concept:** Essential for nutrient cycling and preventing the accumulation of dead material. They complete the food web.\n",
      "\n",
      "5.  **Scavengers:**\n",
      "    *   **What they are:** Animals that feed on the carcasses of dead animals that they did not kill themselves.\n",
      "    *   **Examples:** Vultures, hyenas, some beetles.\n",
      "    *   **Key concept:** They play a role in cleaning up ecosystems, often working alongside decomposers.\n",
      "\n",
      "---\n",
      "\n",
      "Beyond just *what* they eat, you should also understand the **relationships and concepts** that connect these groups:\n",
      "\n",
      "6.  **Food Chains:**\n",
      "    *   **What they are:** A simple, linear sequence showing how energy is transferred from one organism to another (e.g., Grass → Rabbit → Fox).\n",
      "\n",
      "7.  **Food Webs:**\n",
      "    *   **What they are:** A more complex and realistic representation of feeding relationships in an ecosystem, showing multiple interconnected food chains.\n",
      "\n",
      "8.  **Trophic Levels:**\n",
      "    *   **What they are:** The hierarchical levels in an ecosystem, showing the position an organism occupies in a food chain (e.g., Producers, Primary Consumers (herbivores), Secondary Consumers (carnivores/omnivores), Tertiary Consumers, etc.).\n",
      "\n",
      "9.  **Energy Flow:**\n",
      "    *   **Key concept:** How energy moves through an ecosystem, typically from producers to consumers. Understand the \"10% rule\" – only about 10% of the energy from one trophic level is transferred to the next.\n",
      "\n",
      "10. **Predator-Prey Relationships:**\n",
      "    *   **What they are:** The interaction where one organism (the predator) hunts and kills another (the prey) for food. This is a fundamental interaction in most ecosystems.\n",
      "\n",
      "11. **Symbiosis:**\n",
      "    *   **What it is:** A close and long-term interaction between two different biological organisms.\n",
      "    *   **Types:**\n",
      "        *   **Mutualism:** Both organisms benefit (e.g., bees and flowers).\n",
      "        *   **Commensalism:** One organism benefits, and the other is neither harmed nor helped (e.g., barnacles on whales).\n",
      "        *   **Parasitism:** One organism (the parasite) benefits at the expense of the other (the host) (e.g., ticks on deer).\n",
      "\n",
      "12. **Competition:**\n",
      "    *   **What it is:** When two or more organisms require the same limited resources (food, water, shelter, mates). Can be intraspecific (within the same species) or interspecific (between different species).\n",
      "\n",
      "13. **Adaptations:**\n",
      "    *   **Key concept:** How organisms evolve specific traits (physical characteristics, behaviors) that help them survive and reproduce in their environment, often related to their feeding strategy (e.g., sharp claws for predators, camouflage for prey, specialized teeth for herbivores).\n",
      "\n",
      "Learning about these concepts will give you a comprehensive understanding of how living things interact in the natural world!\n",
      "================================\u001b[1m Human Message \u001b[0m=================================\n",
      "Name: Lance\n",
      "\n",
      "Tell me more about Narwhals!\n",
      "==================================\u001b[1m Ai Message \u001b[0m==================================\n",
      "\n",
      "That's a great start! Understanding herbivores (primary consumers) is fundamental. To build on that, you should definitely learn about the other major feeding categories and how they all interact within an ecosystem.\n",
      "\n",
      "Here's a breakdown of what else to learn about:\n",
      "\n",
      "1.  **Carnivores:**\n",
      "    *   **What they are:** Animals that primarily eat other animals.\n",
      "    *   **Examples:** Lions, wolves, eagles, sharks.\n",
      "    *   **Key concept:** They are secondary, tertiary, or even quaternary consumers, depending on what their prey eats.\n",
      "\n",
      "2.  **Omnivores:**\n",
      "    *   **What they are:** Animals that eat both plants and animals.\n",
      "    *   **Examples:** Humans, bears, raccoons, chickens.\n",
      "    *   **Key concept:** They can occupy multiple trophic levels (e.g., primary consumer when eating plants, secondary when eating herbivores).\n",
      "\n",
      "3.  **Producers (Autotrophs):**\n",
      "    *   **What they are:** Organisms that produce their own food, usually through photosynthesis (using sunlight) or chemosynthesis (using chemical energy). They form the base of almost all food webs.\n",
      "    *   **Examples:** Plants, algae, some bacteria.\n",
      "    *   **Key concept:** Without producers, there would be no energy for herbivores, carnivores, or omnivores.\n",
      "\n",
      "4.  **Decomposers (Detritivores):**\n",
      "    *   **What they are:** Organisms that break down dead organic matter (plants and animals) and waste products, returning nutrients to the soil or water.\n",
      "    *   **Examples:** Bacteria, fungi, earthworms, some insects.\n",
      "    *   **Key concept:** Essential for nutrient cycling and preventing the accumulation of dead material. They complete the food web.\n",
      "\n",
      "5.  **Scavengers:**\n",
      "    *   **What they are:** Animals that feed on the carcasses of dead animals that they did not kill themselves.\n",
      "    *   **Examples:** Vultures, hyenas, some beetles.\n",
      "    *   **Key concept:** They play a role in cleaning up ecosystems, often working alongside decomposers.\n",
      "\n",
      "---\n",
      "\n",
      "Beyond just *what* they eat, you should also understand the **relationships and concepts** that connect these groups:\n",
      "\n",
      "6.  **Food Chains:**\n",
      "    *   **What they are:** A simple, linear sequence showing how energy is transferred from one organism to another (e.g., Grass → Rabbit → Fox).\n",
      "\n",
      "7.  **Food Webs:**\n",
      "    *   **What they are:** A more complex and realistic representation of feeding relationships in an ecosystem, showing multiple interconnected food chains.\n",
      "\n",
      "8.  **Trophic Levels:**\n",
      "    *   **What they are:** The hierarchical levels in an ecosystem, showing the position an organism occupies in a food chain (e.g., Producers, Primary Consumers (herbivores), Secondary Consumers (carnivores/omnivores), Tertiary Consumers, etc.).\n",
      "\n",
      "9.  **Energy Flow:**\n",
      "    *   **Key concept:** How energy moves through an ecosystem, typically from producers to consumers. Understand the \"10% rule\" – only about 10% of the energy from one trophic level is transferred to the next.\n",
      "\n",
      "10. **Predator-Prey Relationships:**\n",
      "    *   **What they are:** The interaction where one organism (the predator) hunts and kills another (the prey) for food. This is a fundamental interaction in most ecosystems.\n",
      "\n",
      "11. **Symbiosis:**\n",
      "    *   **What it is:** A close and long-term interaction between two different biological organisms.\n",
      "    *   **Types:**\n",
      "        *   **Mutualism:** Both organisms benefit (e.g., bees and flowers).\n",
      "        *   **Commensalism:** One organism benefits, and the other is neither harmed nor helped (e.g., barnacles on whales).\n",
      "        *   **Parasitism:** One organism (the parasite) benefits at the expense of the other (the host) (e.g., ticks on deer).\n",
      "\n",
      "12. **Competition:**\n",
      "    *   **What it is:** When two or more organisms require the same limited resources (food, water, shelter, mates). Can be intraspecific (within the same species) or interspecific (between different species).\n",
      "\n",
      "13. **Adaptations:**\n",
      "    *   **Key concept:** How organisms evolve specific traits (physical characteristics, behaviors) that help them survive and reproduce in their environment, often related to their feeding strategy (e.g., sharp claws for predators, camouflage for prey, specialized teeth for herbivores).\n",
      "\n",
      "Learning about these concepts will give you a comprehensive understanding of how living things interact in the natural world!\n",
      "================================\u001b[1m Human Message \u001b[0m=================================\n",
      "Name: Nischala\n",
      "\n",
      "Tell me more about Carnivores!\n"
     ]
    }
   ],
   "source": [
    "for m in messages:\n",
    "    m.pretty_print()"
   ]
  },
  {
   "cell_type": "code",
   "execution_count": 15,
   "id": "23349705-a059-47b5-9760-d8f64e687393",
   "metadata": {},
   "outputs": [
    {
     "name": "stdout",
     "output_type": "stream",
     "text": [
      "==================================\u001b[1m Ai Message \u001b[0m==================================\n",
      "Name: Bot\n",
      "\n",
      "Hi.\n",
      "================================\u001b[1m Human Message \u001b[0m=================================\n",
      "Name: Nischala\n",
      "\n",
      "Hi.\n",
      "==================================\u001b[1m Ai Message \u001b[0m==================================\n",
      "Name: Bot\n",
      "\n",
      "So you said you were studying science?\n",
      "================================\u001b[1m Human Message \u001b[0m=================================\n",
      "Name: Nischala\n",
      "\n",
      "Yes, I know about Herbivores. But what others should I learn about?\n",
      "==================================\u001b[1m Ai Message \u001b[0m==================================\n",
      "\n",
      "That's a great start! Understanding herbivores (primary consumers) is fundamental. To build on that, you should definitely learn about the other major feeding categories and how they all interact within an ecosystem.\n",
      "\n",
      "Here's a breakdown of what else to learn about:\n",
      "\n",
      "1.  **Carnivores:**\n",
      "    *   **What they are:** Animals that primarily eat other animals.\n",
      "    *   **Examples:** Lions, wolves, eagles, sharks.\n",
      "    *   **Key concept:** They are secondary, tertiary, or even quaternary consumers, depending on what their prey eats.\n",
      "\n",
      "2.  **Omnivores:**\n",
      "    *   **What they are:** Animals that eat both plants and animals.\n",
      "    *   **Examples:** Humans, bears, raccoons, chickens.\n",
      "    *   **Key concept:** They can occupy multiple trophic levels (e.g., primary consumer when eating plants, secondary when eating herbivores).\n",
      "\n",
      "3.  **Producers (Autotrophs):**\n",
      "    *   **What they are:** Organisms that produce their own food, usually through photosynthesis (using sunlight) or chemosynthesis (using chemical energy). They form the base of almost all food webs.\n",
      "    *   **Examples:** Plants, algae, some bacteria.\n",
      "    *   **Key concept:** Without producers, there would be no energy for herbivores, carnivores, or omnivores.\n",
      "\n",
      "4.  **Decomposers (Detritivores):**\n",
      "    *   **What they are:** Organisms that break down dead organic matter (plants and animals) and waste products, returning nutrients to the soil or water.\n",
      "    *   **Examples:** Bacteria, fungi, earthworms, some insects.\n",
      "    *   **Key concept:** Essential for nutrient cycling and preventing the accumulation of dead material. They complete the food web.\n",
      "\n",
      "5.  **Scavengers:**\n",
      "    *   **What they are:** Animals that feed on the carcasses of dead animals that they did not kill themselves.\n",
      "    *   **Examples:** Vultures, hyenas, some beetles.\n",
      "    *   **Key concept:** They play a role in cleaning up ecosystems, often working alongside decomposers.\n",
      "\n",
      "---\n",
      "\n",
      "Beyond just *what* they eat, you should also understand the **relationships and concepts** that connect these groups:\n",
      "\n",
      "6.  **Food Chains:**\n",
      "    *   **What they are:** A simple, linear sequence showing how energy is transferred from one organism to another (e.g., Grass → Rabbit → Fox).\n",
      "\n",
      "7.  **Food Webs:**\n",
      "    *   **What they are:** A more complex and realistic representation of feeding relationships in an ecosystem, showing multiple interconnected food chains.\n",
      "\n",
      "8.  **Trophic Levels:**\n",
      "    *   **What they are:** The hierarchical levels in an ecosystem, showing the position an organism occupies in a food chain (e.g., Producers, Primary Consumers (herbivores), Secondary Consumers (carnivores/omnivores), Tertiary Consumers, etc.).\n",
      "\n",
      "9.  **Energy Flow:**\n",
      "    *   **Key concept:** How energy moves through an ecosystem, typically from producers to consumers. Understand the \"10% rule\" – only about 10% of the energy from one trophic level is transferred to the next.\n",
      "\n",
      "10. **Predator-Prey Relationships:**\n",
      "    *   **What they are:** The interaction where one organism (the predator) hunts and kills another (the prey) for food. This is a fundamental interaction in most ecosystems.\n",
      "\n",
      "11. **Symbiosis:**\n",
      "    *   **What it is:** A close and long-term interaction between two different biological organisms.\n",
      "    *   **Types:**\n",
      "        *   **Mutualism:** Both organisms benefit (e.g., bees and flowers).\n",
      "        *   **Commensalism:** One organism benefits, and the other is neither harmed nor helped (e.g., barnacles on whales).\n",
      "        *   **Parasitism:** One organism (the parasite) benefits at the expense of the other (the host) (e.g., ticks on deer).\n",
      "\n",
      "12. **Competition:**\n",
      "    *   **What it is:** When two or more organisms require the same limited resources (food, water, shelter, mates). Can be intraspecific (within the same species) or interspecific (between different species).\n",
      "\n",
      "13. **Adaptations:**\n",
      "    *   **Key concept:** How organisms evolve specific traits (physical characteristics, behaviors) that help them survive and reproduce in their environment, often related to their feeding strategy (e.g., sharp claws for predators, camouflage for prey, specialized teeth for herbivores).\n",
      "\n",
      "Learning about these concepts will give you a comprehensive understanding of how living things interact in the natural world!\n",
      "================================\u001b[1m Human Message \u001b[0m=================================\n",
      "Name: Lance\n",
      "\n",
      "Tell me more about Narwhals!\n",
      "================================\u001b[1m Human Message \u001b[0m=================================\n",
      "Name: Nischala\n",
      "\n",
      "Tell me more about Carnivores!\n",
      "==================================\u001b[1m Ai Message \u001b[0m==================================\n",
      "\n",
      "Carnivores are fascinating and vital members of nearly every ecosystem on Earth! The term \"carnivore\" literally means \"meat-eater\" (from Latin *caro* for flesh and *vorare* for to devour).\n",
      "\n",
      "Here's a deeper dive into what makes them unique:\n",
      "\n",
      "1.  **Diet and Nutrition:**\n",
      "    *   **Primary Food Source:** Their diet consists primarily, or exclusively, of animal tissue. This can include other mammals, birds, fish, insects, reptiles, amphibians, or even eggs.\n",
      "    *   **Nutrient Rich:** Meat is a highly concentrated source of protein, fat, vitamins (especially B vitamins and vitamin A), and minerals (like iron and zinc), which are essential for their high energy demands.\n",
      "    *   **Less Digestion:** Animal tissue is generally easier to digest than plant matter (cellulose), so carnivores tend to have shorter, simpler digestive tracts compared to herbivores.\n",
      "\n",
      "2.  **Key Adaptations for Hunting and Eating:**\n",
      "    *   **Teeth:**\n",
      "        *   **Canines:** Long, sharp, pointed teeth for piercing, gripping, and tearing flesh.\n",
      "        *   **Carnassials:** Specialized molars and premolars that act like scissors, shearing meat and crushing bone. These are particularly well-developed in mammalian carnivores (e.g., dogs, cats).\n",
      "        *   **Incisors:** Smaller, for nipping and grooming.\n",
      "    *   **Claws:** Sharp, retractable (in many cats) or non-retractable claws for gripping prey, climbing, digging, and defense.\n",
      "    *   **Senses:** Highly developed senses crucial for hunting:\n",
      "        *   **Vision:** Often excellent, with binocular vision for depth perception (especially in predators that chase or pounce). Many nocturnal carnivores have superior night vision.\n",
      "        *   **Smell:** An acute sense of smell helps locate prey, track, and detect other animals.\n",
      "        *   **Hearing:** Sensitive hearing can detect the slightest movements of prey.\n",
      "    *   **Musculature and Skeleton:** Strong jaws, powerful neck muscles, and agile, muscular bodies built for speed, strength, and quick movements.\n",
      "    *   **Hunting Strategies:**\n",
      "        *   **Ambush Predators:** Lie in wait and surprise their prey (e.g., crocodiles, many snakes, some cats).\n",
      "        *   **Pursuit Predators:** Chase down their prey (e.g., wolves, cheetahs).\n",
      "        *   **Pack Hunters:** Cooperate to take down larger prey (e.g., wolves, lions, hyenas).\n",
      "        *   **Solitary Hunters:** Hunt alone (e.g., tigers, most bears, owls).\n",
      "\n",
      "3.  **Ecological Role (Why They Matter):**\n",
      "    *   **Population Control:** Carnivores help regulate the populations of herbivores and other prey animals, preventing overgrazing and overpopulation that could destabilize an ecosystem.\n",
      "    *   **Natural Selection:** By preying on the weak, sick, or old, carnivores help ensure that only the fittest individuals survive and reproduce in prey populations, strengthening the gene pool.\n",
      "    *   **Scavenging:** Some carnivores (like vultures and hyenas) are also important scavengers, cleaning up carcasses and preventing the spread of disease.\n",
      "    *   **Keystone Species:** Many top predators are considered \"keystone species.\" Their presence has a disproportionately large impact on their ecosystem, and their removal can cause a trophic cascade, leading to dramatic changes in other species' populations and even habitat structure (e.g., the reintroduction of wolves to Yellowstone National Park).\n",
      "\n",
      "4.  **Types of Carnivores (Degrees of Carnivory):**\n",
      "    *   **Obligate/True Carnivores:** Animals that *must* eat meat to survive and thrive. Their digestive systems are specifically adapted for meat. Examples: most cats (lions, tigers, domestic cats).\n",
      "    *   **Facultative Carnivores:** Animals that primarily eat meat but can supplement their diet with plant matter, especially when prey is scarce. Examples: dogs, wolves, foxes.\n",
      "    *   **Insectivores:** Carnivores that specialize in eating insects (e.g., anteaters, shrews, many birds, frogs).\n",
      "    *   **Piscivores:** Carnivores that specialize in eating fish (e.g., seals, otters, ospreys, many sharks).\n",
      "    *   **Avivores:** Carnivores that specialize in eating birds.\n",
      "    *   **Sanguivores:** Carnivores that feed on blood (e.g., vampire bats, some leeches).\n",
      "    *   **Scavengers:** Carnivores that primarily eat carrion (dead animals) (e.g., vultures, some hyenas, many beetles).\n",
      "\n",
      "5.  **Examples Across the Animal Kingdom:**\n",
      "    *   **Mammals:** Lions, tigers, wolves, bears (some species like polar bears are obligate carnivores, others are omnivores), foxes, weasels, seals, whales (many species), bats (some species).\n",
      "    *   **Birds:** Eagles, hawks, owls, falcons, kingfishers, penguins.\n",
      "    *   **Reptiles:** Crocodiles, alligators, most snakes, monitor lizards.\n",
      "    *   **Amphibians:** Most frogs and salamanders.\n",
      "    *   **Fish:** Sharks, piranhas, barracudas.\n",
      "    *   **Invertebrates:** Spiders, praying mantises, scorpions, some species of beetles and marine worms.\n",
      "\n",
      "6.  **Conservation Challenges:**\n",
      "    *   Many large carnivores face significant threats due to habitat loss and fragmentation, depletion of their prey base, human-wildlife conflict (e.g., retaliation for livestock predation), poaching, and climate change. Protecting these apex predators is often crucial for maintaining the health and biodiversity of entire ecosystems.\n",
      "\n",
      "Carnivores are a testament to the incredible diversity and adaptability of life, playing a critical role in maintaining the balance and health of our planet's ecosystems.\n"
     ]
    }
   ],
   "source": [
    "# Invoke, using message filtering\n",
    "output = graph.invoke({'messages': messages})\n",
    "for m in output['messages']:\n",
    "    m.pretty_print()"
   ]
  },
  {
   "cell_type": "markdown",
   "id": "42e1d8d2-e297-4d78-b54c-d12b3c866745",
   "metadata": {},
   "source": [
    "The state has all of the mesages.\n",
    "\n",
    "But, let's look at the LangSmith trace to see that the model invocation only uses the last message:\n",
    "\n",
    "https://smith.langchain.com/public/75aca3ce-ef19-4b92-94be-0178c7a660d9/r"
   ]
  },
  {
   "cell_type": "markdown",
   "id": "fc40d930-3c1f-47fe-8d2a-ce174873353c",
   "metadata": {},
   "source": [
    "## Trim messages\n",
    "\n",
    "Another approach is to [trim messages](https://python.langchain.com/v0.2/docs/how_to/trim_messages/#getting-the-last-max_tokens-tokens), based upon a set number of tokens. \n",
    "\n",
    "This restricts the message history to a specified number of tokens.\n",
    "\n",
    "While filtering only returns a post-hoc subset of the messages between agents, trimming restricts the number of tokens that a chat model can use to respond.\n",
    "\n",
    "See the `trim_messages` below."
   ]
  },
  {
   "cell_type": "code",
   "execution_count": 21,
   "id": "2ff99b81-cf03-4cc2-b44f-44829a73e1fd",
   "metadata": {},
   "outputs": [
    {
     "data": {
      "image/png": "[encoded data removed]",
      "text/plain": [
       "<IPython.core.display.Image object>"
      ]
     },
     "metadata": {},
     "output_type": "display_data"
    }
   ],
   "source": [
    "from langchain_google_genai import ChatGoogleGenerativeAI\n",
    "from langchain_core.messages import trim_messages\n",
    "from langgraph.graph import StateGraph, START, END\n",
    "from IPython.display import Image, display\n",
    "\n",
    "\n",
    "llm = ChatGoogleGenerativeAI(model=\"gemini-2.5-flash\")  \n",
    "\n",
    "# Node function\n",
    "def chat_model_node(state: MessagesState):\n",
    "    messages = trim_messages(\n",
    "        state[\"messages\"],\n",
    "        max_tokens=100,\n",
    "        strategy=\"last\",\n",
    "        token_counter=llm,  \n",
    "        allow_partial=False,\n",
    "    )\n",
    "    return {\"messages\": [llm.invoke(messages)]}\n",
    "\n",
    "# Build graph\n",
    "builder = StateGraph(MessagesState)\n",
    "builder.add_node(\"chat_model\", chat_model_node)\n",
    "builder.add_edge(START, \"chat_model\")\n",
    "builder.add_edge(\"chat_model\", END)\n",
    "\n",
    "# Compile graph\n",
    "graph = builder.compile()\n",
    "\n",
    "# View\n",
    "display(Image(graph.get_graph().draw_mermaid_png()))\n"
   ]
  },
  {
   "cell_type": "code",
   "execution_count": 22,
   "id": "24df63ac-da29-4874-b3df-7e390e97cc8a",
   "metadata": {},
   "outputs": [],
   "source": [
    "messages.append(output['messages'][-1])\n",
    "messages.append(HumanMessage(f\"Tell me what Omnivores eat!\", name=\"Nischala\"))"
   ]
  },
  {
   "cell_type": "code",
   "execution_count": 23,
   "id": "6d9d8971-c75c-43ca-a209-eb1d07b2ead0",
   "metadata": {},
   "outputs": [],
   "source": [
    "# Example of trimming messages\n",
    "from langchain_google_genai import ChatGoogleGenerativeAI\n",
    "from langchain_core.messages import trim_messages\n",
    "\n",
    "trimmed = trim_messages(\n",
    "    messages,\n",
    "    max_tokens=100,\n",
    "    strategy=\"last\",\n",
    "    token_counter=ChatGoogleGenerativeAI(model=\"gemini-2.5-flash\"),  \n",
    "    allow_partial=False\n",
    ")\n"
   ]
  },
  {
   "cell_type": "code",
   "execution_count": 24,
   "id": "ed70a269-a869-4fa0-a1df-29736a432c51",
   "metadata": {},
   "outputs": [],
   "source": [
    "# Invoke, using message trimming in the chat_model_node \n",
    "messages_out_trim = graph.invoke({'messages': messages})"
   ]
  },
  {
   "cell_type": "markdown",
   "id": "38b3db67-380e-46b5-9a6a-20100ba52008",
   "metadata": {},
   "source": [
    "Let's look at the LangSmith trace to see the model invocation:\n",
    "\n",
    "https://smith.langchain.com/public/b153f7e9-f1a5-4d60-8074-f0d7ab5b42ef/r"
   ]
  }
 ],
 "metadata": {
  "kernelspec": {
   "display_name": ".env_lang",
   "language": "python",
   "name": "python3"
  },
  "language_info": {
   "codemirror_mode": {
    "name": "ipython",
    "version": 3
   },
   "file_extension": ".py",
   "mimetype": "text/x-python",
   "name": "python",
   "nbconvert_exporter": "python",
   "pygments_lexer": "ipython3",
   "version": "3.13.7"
  }
 },
 "nbformat": 4,
 "nbformat_minor": 5
}
